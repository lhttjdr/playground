{
 "cells": [
  {
   "cell_type": "markdown",
   "id": "e294ba7a-8c3c-46bb-9cfc-257a6b2b284d",
   "metadata": {
    "id": "ox9wVDmLgfi1"
   },
   "source": [
    "# 例：RAG\n",
    "\n",
    "Retrieval-Augmented Generation，增强检索生成。"
   ]
  },
  {
   "cell_type": "markdown",
   "id": "03e42a36-6cc2-4f2a-823b-e402dd41c1d2",
   "metadata": {},
   "source": [
    "## 0.准备\n",
    "下面是一些工具函数。用来显示langchain的一些运行结果。"
   ]
  },
  {
   "cell_type": "code",
   "execution_count": 15,
   "id": "21da21da-7238-45cd-8fec-3da48046508f",
   "metadata": {},
   "outputs": [],
   "source": [
    "from langchain_core.documents import Document\n",
    "from langchain_core.messages import BaseMessage, HumanMessage, AIMessage\n",
    "import json\n",
    "\n",
    "def show_documents(docs: list[Document]):\n",
    "    from IPython.display import HTML, display\n",
    "    html = \"\"\n",
    "    html += \"<ul style=\\\"list-style: none;\\\">\"\n",
    "    for doc in docs:\n",
    "      html += \"<li><div style=\\\"margin: 15px 0;  box-shadow: 0 4px 8px 0 rgba(0,0,0,0.2); transition: 0.3s;\\\">\"\n",
    "      html+=f\"<pre style=\\\"background-color: #eee; font-size: 10px; border: 1px dashed #ccc; padding: 5px;\\\">{json.dumps(doc.metadata, indent=2, ensure_ascii=False)}</pre>\"\n",
    "      html+=f\"<pre style=\\\"background-color: #eff; padding: 5px;\\\">{doc.page_content}</pre>\"\n",
    "      html+=\"</div></li>\"\n",
    "    display(HTML(html))    \n",
    "\n",
    "def show_messages(messages: list[BaseMessage]):\n",
    "    from IPython.display import HTML, display\n",
    "    html = \"\"\n",
    "    html += \"<ul style=\\\"list-style: none; margin: 5px 0;\\\">\"\n",
    "    for msg in messages:\n",
    "      html += \"<li><div style=\\\"margin: 15px 0;\\\">\"\n",
    "      match msg.type:\n",
    "        case \"ai\":\n",
    "            html += \"<div style=\\\"text-align: right; font-size: 24px;\\\">🤖</div>\"\n",
    "            html+=f\"<pre style=\\\"background-color: #eff; float: right; padding: 5px; width: fit-content; box-shadow: 0 4px 8px 0 rgba(0,0,0,0.2); transition: 0.3s;   border-radius: 5px;\\\">{msg.content}</pre>\"\n",
    "        case \"human\":\n",
    "            html += \"<div style=\\\"text-align: left;font-size: 24px;\\\">👨🏻</div>\"\n",
    "            html+=f\"<pre style=\\\"background-color: #ffe; padding: 5px; width: fit-content; box-shadow: 0 4px 8px 0 rgba(0,0,0,0.2); transition: 0.3s; border-radius: 5px;\\\">{msg.content}</pre>\"\n",
    "        case _:\n",
    "            html += f\"<div style=\\\"text-align: left;font-size: 24px;\\\">{msg.type}</div>\"\n",
    "            html+=f\"<pre style=\\\"background-color: #eee; padding: 5px;width: fit-content; box-shadow: 0 4px 8px 0 rgba(0,0,0,0.2); transition: 0.3s;\\\">{msg.content}</pre>\"\n",
    "      html+=\"</div></li>\"\n",
    "    display(HTML(html))\n",
    "\n",
    "def show_answer(message: AIMessage):\n",
    "    from IPython.display import HTML, display\n",
    "    html = \"\"\n",
    "    html += \"<div style=\\\"background-color: #eee; padding: 5px;\\\">\"\n",
    "    html += f\"<div style=\\\"font-size: 9px; color: #333;\\\">id={message.id}</div>\"\n",
    "    html += f\"<pre style=\\\"background-color: transparent; border: 1px dash #ccc; padding: 5px; width: fit-content;\\\">{message.content}</pre>\"\n",
    "    html += f\"<pre style=\\\"font-size: 9px;\\\">{json.dumps(message.response_metadata, indent=2)}</pre>\"\n",
    "    html += \"</div>\"\n",
    "    display(HTML(html))\n"
   ]
  },
  {
   "cell_type": "markdown",
   "id": "bac5d58c-cb9f-4491-a04d-5e33186aa696",
   "metadata": {
    "id": "uFmahiRlYW4s"
   },
   "source": [
    "## 1. 创建知识库"
   ]
  },
  {
   "cell_type": "markdown",
   "id": "703b565c-bacd-42f4-aa50-3b7fa4387563",
   "metadata": {},
   "source": [
    "假设有Markdown格式的文章，如下："
   ]
  },
  {
   "cell_type": "code",
   "execution_count": 16,
   "id": "425f873f-9281-4662-a38f-46792a8615dd",
   "metadata": {
    "id": "E21RWssiYcnO"
   },
   "outputs": [],
   "source": [
    "markdown_document = \"\"\"\n",
    "# 六元素について\n",
    "\n",
    "生活、仕事、教育。日々の暮らしや社会に関わるさまざまなものが、年齢や性別、時間や場所から自由になる世界が実現できる。ITの可能性は、まだまだ広がります。\n",
    "\n",
    "そんなITの力で私たちが目指す「感動」や「幸せ」は、すべての人がやりたいことに挑戦できる未来、成長できる未来、成功を目指せる未来。だからこそ、あなたが実現したい未来を実現するための\n",
    "「プラットフォーム」になりたい。\n",
    "\n",
    "私たち六元素は、「ITプロフェッショナル力」による顧客の課題解決と「社会課題」に挑む自社サービス開発で、顧客と社会に感動と幸せを創造する「チャレンジ・プラットフォームカンパニー」です。\n",
    "\n",
    "## 経営理念 PHILOSOPHY\n",
    "\n",
    "顧客へ感動を、社員へ幸せを。\n",
    "\n",
    "## ミッション MISSION\n",
    "\n",
    "ITの力で、感動と幸せを創造する。\n",
    "\n",
    "## ビジョン VISION\n",
    "\n",
    "「ITプロフェッショナル力」と「社会課題へ挑むベンチャーマインド」で、半歩先の未来価値を創造し続け、感動と幸せを提供する、「チャレンジ・プラットフォーム カンパニー」。\n",
    "\n",
    "## バリュー VALUE\n",
    "\n",
    "We are CHONPS（必須元素）\n",
    "\n",
    "- Challenger やってみよう\n",
    "- Heart 情熱と心を込めよう\n",
    "- One team ワンチームになろう\n",
    "- New technology 先端技術を取り入れよう\n",
    "- Professional　プロでいよう\n",
    "- Study 学び続けよう\n",
    "\n",
    "## 社名由来 ORIGIN OF COMPANY NAME\n",
    "\n",
    "### 六元素の意味\n",
    "\n",
    "あらゆる生命は活動を維持するために酸素、炭素、窒素、水素、燐、硫黄という六つの元素が必要だとされています。私たちは、企業を発展させるためにも顧客、従業員、株主、社会、パートナー、ライバルという六つの元素が大切だと考えます。さらに中国では、まだ発見されていない未来の元素のことを「第六元素」とも言います。社名にはこれら二つの意味合いから、「堅実な基礎を築き、未来の価値を追求していく」という意味を込めています。\n",
    "\n",
    "\"\"\""
   ]
  },
  {
   "cell_type": "markdown",
   "id": "4d0e8b9d-e3c7-452b-8a4f-97bc8020739f",
   "metadata": {},
   "source": [
    "### 1.1 切分"
   ]
  },
  {
   "cell_type": "markdown",
   "id": "ca8bb2c4-eca1-48f2-9527-8a1a90a1e51d",
   "metadata": {
    "id": "ZbWsYwfbY_9x"
   },
   "source": [
    "#### (1) 按章节切分大块\n",
    "\n",
    "按照章节可以切分片段。"
   ]
  },
  {
   "cell_type": "code",
   "execution_count": 17,
   "id": "5178608e-b793-4e06-b328-ebe10d4f474f",
   "metadata": {
    "colab": {
     "base_uri": "https://localhost:8080/"
    },
    "id": "JMchC5IJZHUG",
    "outputId": "c91a97d9-f286-43c9-e737-73a4795d86bc"
   },
   "outputs": [
    {
     "data": {
      "text/html": [
       "<ul style=\"list-style: none;\"><li><div style=\"margin: 15px 0;  box-shadow: 0 4px 8px 0 rgba(0,0,0,0.2); transition: 0.3s;\"><pre style=\"background-color: #eee; font-size: 10px; border: 1px dashed #ccc; padding: 5px;\">{\n",
       "  \"H1\": \"六元素について\"\n",
       "}</pre><pre style=\"background-color: #eff; padding: 5px;\">生活、仕事、教育。日々の暮らしや社会に関わるさまざまなものが、年齢や性別、時間や場所から自由になる世界が実現できる。ITの可能性は、まだまだ広がります。  \n",
       "そんなITの力で私たちが目指す「感動」や「幸せ」は、すべての人がやりたいことに挑戦できる未来、成長できる未来、成功を目指せる未来。だからこそ、あなたが実現したい未来を実現するための\n",
       "「プラットフォーム」になりたい。  \n",
       "私たち六元素は、「ITプロフェッショナル力」による顧客の課題解決と「社会課題」に挑む自社サービス開発で、顧客と社会に感動と幸せを創造する「チャレンジ・プラットフォームカンパニー」です。</pre></div></li><li><div style=\"margin: 15px 0;  box-shadow: 0 4px 8px 0 rgba(0,0,0,0.2); transition: 0.3s;\"><pre style=\"background-color: #eee; font-size: 10px; border: 1px dashed #ccc; padding: 5px;\">{\n",
       "  \"H1\": \"六元素について\",\n",
       "  \"H2\": \"経営理念 PHILOSOPHY\"\n",
       "}</pre><pre style=\"background-color: #eff; padding: 5px;\">顧客へ感動を、社員へ幸せを。</pre></div></li><li><div style=\"margin: 15px 0;  box-shadow: 0 4px 8px 0 rgba(0,0,0,0.2); transition: 0.3s;\"><pre style=\"background-color: #eee; font-size: 10px; border: 1px dashed #ccc; padding: 5px;\">{\n",
       "  \"H1\": \"六元素について\",\n",
       "  \"H2\": \"ミッション MISSION\"\n",
       "}</pre><pre style=\"background-color: #eff; padding: 5px;\">ITの力で、感動と幸せを創造する。</pre></div></li><li><div style=\"margin: 15px 0;  box-shadow: 0 4px 8px 0 rgba(0,0,0,0.2); transition: 0.3s;\"><pre style=\"background-color: #eee; font-size: 10px; border: 1px dashed #ccc; padding: 5px;\">{\n",
       "  \"H1\": \"六元素について\",\n",
       "  \"H2\": \"ビジョン VISION\"\n",
       "}</pre><pre style=\"background-color: #eff; padding: 5px;\">「ITプロフェッショナル力」と「社会課題へ挑むベンチャーマインド」で、半歩先の未来価値を創造し続け、感動と幸せを提供する、「チャレンジ・プラットフォーム カンパニー」。</pre></div></li><li><div style=\"margin: 15px 0;  box-shadow: 0 4px 8px 0 rgba(0,0,0,0.2); transition: 0.3s;\"><pre style=\"background-color: #eee; font-size: 10px; border: 1px dashed #ccc; padding: 5px;\">{\n",
       "  \"H1\": \"六元素について\",\n",
       "  \"H2\": \"バリュー VALUE\"\n",
       "}</pre><pre style=\"background-color: #eff; padding: 5px;\">We are CHONPS（必須元素）  \n",
       "- Challenger やってみよう\n",
       "- Heart 情熱と心を込めよう\n",
       "- One team ワンチームになろう\n",
       "- New technology 先端技術を取り入れよう\n",
       "- Professionalプロでいよう\n",
       "- Study 学び続けよう</pre></div></li><li><div style=\"margin: 15px 0;  box-shadow: 0 4px 8px 0 rgba(0,0,0,0.2); transition: 0.3s;\"><pre style=\"background-color: #eee; font-size: 10px; border: 1px dashed #ccc; padding: 5px;\">{\n",
       "  \"H1\": \"六元素について\",\n",
       "  \"H2\": \"社名由来 ORIGIN OF COMPANY NAME\",\n",
       "  \"H3\": \"六元素の意味\"\n",
       "}</pre><pre style=\"background-color: #eff; padding: 5px;\">あらゆる生命は活動を維持するために酸素、炭素、窒素、水素、燐、硫黄という六つの元素が必要だとされています。私たちは、企業を発展させるためにも顧客、従業員、株主、社会、パートナー、ライバルという六つの元素が大切だと考えます。さらに中国では、まだ発見されていない未来の元素のことを「第六元素」とも言います。社名にはこれら二つの意味合いから、「堅実な基礎を築き、未来の価値を追求していく」という意味を込めています。</pre></div></li>"
      ],
      "text/plain": [
       "<IPython.core.display.HTML object>"
      ]
     },
     "metadata": {},
     "output_type": "display_data"
    }
   ],
   "source": [
    "from langchain_text_splitters import MarkdownHeaderTextSplitter\n",
    "\n",
    "headers_to_split_on = [\n",
    "    (\"#\", \"H1\"),\n",
    "    (\"##\", \"H2\"),\n",
    "    (\"###\", \"H3\"),\n",
    "]\n",
    "\n",
    "# MD splits\n",
    "markdown_splitter = MarkdownHeaderTextSplitter(\n",
    "    headers_to_split_on=headers_to_split_on,\n",
    "    strip_headers=True\n",
    ")\n",
    "md_header_splits = markdown_splitter.split_text(markdown_document)\n",
    "\n",
    "show_documents(md_header_splits)"
   ]
  },
  {
   "cell_type": "markdown",
   "id": "827c2a85-8ae0-4c34-bba9-8ab684d257fc",
   "metadata": {
    "collapsed": true,
    "jupyter": {
     "outputs_hidden": true
    }
   },
   "source": [
    "#### (2) 清洗\n",
    "\n",
    "清洗Markdown里面的标记，只保留文字部分。"
   ]
  },
  {
   "cell_type": "code",
   "execution_count": 18,
   "id": "e6b7c506-4abf-4e94-830f-754b99d0fc29",
   "metadata": {},
   "outputs": [
    {
     "data": {
      "text/html": [
       "<ul style=\"list-style: none;\"><li><div style=\"margin: 15px 0;  box-shadow: 0 4px 8px 0 rgba(0,0,0,0.2); transition: 0.3s;\"><pre style=\"background-color: #eee; font-size: 10px; border: 1px dashed #ccc; padding: 5px;\">{\n",
       "  \"H1\": \"六元素について\"\n",
       "}</pre><pre style=\"background-color: #eff; padding: 5px;\">生活、仕事、教育。日々の暮らしや社会に関わるさまざまなものが、年齢や性別、時間や場所から自由になる世界が実現できる。ITの可能性は、まだまだ広がります。 そんなITの力で私たちが目指す「感動」や「幸せ」は、すべての人がやりたいことに挑戦できる未来、成長できる未来、成功を目指せる未来。だからこそ、あなたが実現したい未来を実現するための 「プラットフォーム」になりたい。 私たち六元素は、「ITプロフェッショナル力」による顧客の課題解決と「社会課題」に挑む自社サービス開発で、顧客と社会に感動と幸せを創造する「チャレンジ・プラットフォームカンパニー」です。</pre></div></li><li><div style=\"margin: 15px 0;  box-shadow: 0 4px 8px 0 rgba(0,0,0,0.2); transition: 0.3s;\"><pre style=\"background-color: #eee; font-size: 10px; border: 1px dashed #ccc; padding: 5px;\">{\n",
       "  \"H1\": \"六元素について\",\n",
       "  \"H2\": \"経営理念 PHILOSOPHY\"\n",
       "}</pre><pre style=\"background-color: #eff; padding: 5px;\">顧客へ感動を、社員へ幸せを。</pre></div></li><li><div style=\"margin: 15px 0;  box-shadow: 0 4px 8px 0 rgba(0,0,0,0.2); transition: 0.3s;\"><pre style=\"background-color: #eee; font-size: 10px; border: 1px dashed #ccc; padding: 5px;\">{\n",
       "  \"H1\": \"六元素について\",\n",
       "  \"H2\": \"ミッション MISSION\"\n",
       "}</pre><pre style=\"background-color: #eff; padding: 5px;\">ITの力で、感動と幸せを創造する。</pre></div></li><li><div style=\"margin: 15px 0;  box-shadow: 0 4px 8px 0 rgba(0,0,0,0.2); transition: 0.3s;\"><pre style=\"background-color: #eee; font-size: 10px; border: 1px dashed #ccc; padding: 5px;\">{\n",
       "  \"H1\": \"六元素について\",\n",
       "  \"H2\": \"ビジョン VISION\"\n",
       "}</pre><pre style=\"background-color: #eff; padding: 5px;\">「ITプロフェッショナル力」と「社会課題へ挑むベンチャーマインド」で、半歩先の未来価値を創造し続け、感動と幸せを提供する、「チャレンジ・プラットフォーム カンパニー」。</pre></div></li><li><div style=\"margin: 15px 0;  box-shadow: 0 4px 8px 0 rgba(0,0,0,0.2); transition: 0.3s;\"><pre style=\"background-color: #eee; font-size: 10px; border: 1px dashed #ccc; padding: 5px;\">{\n",
       "  \"H1\": \"六元素について\",\n",
       "  \"H2\": \"バリュー VALUE\"\n",
       "}</pre><pre style=\"background-color: #eff; padding: 5px;\">We are CHONPS（必須元素） - Challenger やってみよう - Heart 情熱と心を込めよう - One team ワンチームになろう - New technology 先端技術を取り入れよう - Professionalプロでいよう - Study 学び続けよう</pre></div></li><li><div style=\"margin: 15px 0;  box-shadow: 0 4px 8px 0 rgba(0,0,0,0.2); transition: 0.3s;\"><pre style=\"background-color: #eee; font-size: 10px; border: 1px dashed #ccc; padding: 5px;\">{\n",
       "  \"H1\": \"六元素について\",\n",
       "  \"H2\": \"社名由来 ORIGIN OF COMPANY NAME\",\n",
       "  \"H3\": \"六元素の意味\"\n",
       "}</pre><pre style=\"background-color: #eff; padding: 5px;\">あらゆる生命は活動を維持するために酸素、炭素、窒素、水素、燐、硫黄という六つの元素が必要だとされています。私たちは、企業を発展させるためにも顧客、従業員、株主、社会、パートナー、ライバルという六つの元素が大切だと考えます。さらに中国では、まだ発見されていない未来の元素のことを「第六元素」とも言います。社名にはこれら二つの意味合いから、「堅実な基礎を築き、未来の価値を追求していく」という意味を込めています。</pre></div></li>"
      ],
      "text/plain": [
       "<IPython.core.display.HTML object>"
      ]
     },
     "metadata": {},
     "output_type": "display_data"
    }
   ],
   "source": [
    "from unstructured.partition.md import partition_md\n",
    "\n",
    "for doc in md_header_splits:\n",
    "  doc.page_content = text = \"\\n\".join([str(e) for e in partition_md(text=doc.page_content)])\n",
    "\n",
    "show_documents(md_header_splits)"
   ]
  },
  {
   "cell_type": "markdown",
   "id": "1b201bb8-7b0e-4a69-992d-9de87eac877b",
   "metadata": {
    "id": "5UtiyGRUaPAA"
   },
   "source": [
    "#### (3) 按长度切分小块\n",
    "\n",
    "进一步，可以按字符串长度切分"
   ]
  },
  {
   "cell_type": "code",
   "execution_count": 19,
   "id": "d4955339-67fd-421b-9f44-c1336a51ee9d",
   "metadata": {
    "colab": {
     "base_uri": "https://localhost:8080/",
     "height": 637
    },
    "id": "TtOqvDCVClWO",
    "outputId": "5c9c28fa-f6f0-483f-a34a-106917f9efb5"
   },
   "outputs": [
    {
     "data": {
      "text/html": [
       "<ul style=\"list-style: none;\"><li><div style=\"margin: 15px 0;  box-shadow: 0 4px 8px 0 rgba(0,0,0,0.2); transition: 0.3s;\"><pre style=\"background-color: #eee; font-size: 10px; border: 1px dashed #ccc; padding: 5px;\">{\n",
       "  \"H1\": \"六元素について\"\n",
       "}</pre><pre style=\"background-color: #eff; padding: 5px;\">生活、仕事、教育。日々の暮らしや社会に関わるさまざまなものが、年齢や性別、時間や場所から自由になる世界が実現できる。ITの可能性は、まだまだ広がります。 そんなITの力で私たちが目指す「感動」や「幸せ」は、すべての人がやりたいことに挑戦できる未来、成長できる未来、成功を目指せる未来。だからこそ、あなたが実現したい未来を実現するための 「プラットフォーム」になりたい。</pre></div></li><li><div style=\"margin: 15px 0;  box-shadow: 0 4px 8px 0 rgba(0,0,0,0.2); transition: 0.3s;\"><pre style=\"background-color: #eee; font-size: 10px; border: 1px dashed #ccc; padding: 5px;\">{\n",
       "  \"H1\": \"六元素について\"\n",
       "}</pre><pre style=\"background-color: #eff; padding: 5px;\">「プラットフォーム」になりたい。 私たち六元素は、「ITプロフェッショナル力」による顧客の課題解決と「社会課題」に挑む自社サービス開発で、顧客と社会に感動と幸せを創造する「チャレンジ・プラットフォームカンパニー」です。</pre></div></li><li><div style=\"margin: 15px 0;  box-shadow: 0 4px 8px 0 rgba(0,0,0,0.2); transition: 0.3s;\"><pre style=\"background-color: #eee; font-size: 10px; border: 1px dashed #ccc; padding: 5px;\">{\n",
       "  \"H1\": \"六元素について\",\n",
       "  \"H2\": \"経営理念 PHILOSOPHY\"\n",
       "}</pre><pre style=\"background-color: #eff; padding: 5px;\">顧客へ感動を、社員へ幸せを。</pre></div></li><li><div style=\"margin: 15px 0;  box-shadow: 0 4px 8px 0 rgba(0,0,0,0.2); transition: 0.3s;\"><pre style=\"background-color: #eee; font-size: 10px; border: 1px dashed #ccc; padding: 5px;\">{\n",
       "  \"H1\": \"六元素について\",\n",
       "  \"H2\": \"ミッション MISSION\"\n",
       "}</pre><pre style=\"background-color: #eff; padding: 5px;\">ITの力で、感動と幸せを創造する。</pre></div></li><li><div style=\"margin: 15px 0;  box-shadow: 0 4px 8px 0 rgba(0,0,0,0.2); transition: 0.3s;\"><pre style=\"background-color: #eee; font-size: 10px; border: 1px dashed #ccc; padding: 5px;\">{\n",
       "  \"H1\": \"六元素について\",\n",
       "  \"H2\": \"ビジョン VISION\"\n",
       "}</pre><pre style=\"background-color: #eff; padding: 5px;\">「ITプロフェッショナル力」と「社会課題へ挑むベンチャーマインド」で、半歩先の未来価値を創造し続け、感動と幸せを提供する、「チャレンジ・プラットフォーム カンパニー」。</pre></div></li><li><div style=\"margin: 15px 0;  box-shadow: 0 4px 8px 0 rgba(0,0,0,0.2); transition: 0.3s;\"><pre style=\"background-color: #eee; font-size: 10px; border: 1px dashed #ccc; padding: 5px;\">{\n",
       "  \"H1\": \"六元素について\",\n",
       "  \"H2\": \"バリュー VALUE\"\n",
       "}</pre><pre style=\"background-color: #eff; padding: 5px;\">We are CHONPS（必須元素） - Challenger やってみよう - Heart 情熱と心を込めよう - One team ワンチームになろう - New technology 先端技術を取り入れよう - Professionalプロでいよう - Study 学び続けよう</pre></div></li><li><div style=\"margin: 15px 0;  box-shadow: 0 4px 8px 0 rgba(0,0,0,0.2); transition: 0.3s;\"><pre style=\"background-color: #eee; font-size: 10px; border: 1px dashed #ccc; padding: 5px;\">{\n",
       "  \"H1\": \"六元素について\",\n",
       "  \"H2\": \"社名由来 ORIGIN OF COMPANY NAME\",\n",
       "  \"H3\": \"六元素の意味\"\n",
       "}</pre><pre style=\"background-color: #eff; padding: 5px;\">あらゆる生命は活動を維持するために酸素、炭素、窒素、水素、燐、硫黄という六つの元素が必要だとされています。私たちは、企業を発展させるためにも顧客、従業員、株主、社会、パートナー、ライバルという六つの元素が大切だと考えます。さらに中国では、まだ発見されていない未来の元素のことを「第六元素」とも言います。社名にはこれら二つの意味合いから、「堅実な基礎を築き、未来の価値を追求していく」という意味を込めています。</pre></div></li>"
      ],
      "text/plain": [
       "<IPython.core.display.HTML object>"
      ]
     },
     "metadata": {},
     "output_type": "display_data"
    }
   ],
   "source": [
    "# Char-level splits\n",
    "from langchain_text_splitters import RecursiveCharacterTextSplitter\n",
    "\n",
    "chunk_size = 250\n",
    "chunk_overlap = 30\n",
    "text_splitter = RecursiveCharacterTextSplitter(\n",
    "    chunk_size=chunk_size, chunk_overlap=chunk_overlap\n",
    ")\n",
    "\n",
    "# Split\n",
    "splits = text_splitter.split_documents(md_header_splits)\n",
    "\n",
    "show_documents(splits)"
   ]
  },
  {
   "cell_type": "markdown",
   "id": "de382a49-2dbb-4a88-8db9-ed21b6926158",
   "metadata": {},
   "source": [
    "### 1.2 建库\n",
    "\n",
    "将切分后的文章片段，存入可以进行相关度检索的数据库中。"
   ]
  },
  {
   "cell_type": "markdown",
   "id": "793e9627-0130-4973-8210-5606a8861ae8",
   "metadata": {},
   "source": [
    "#### (1) BM25"
   ]
  },
  {
   "cell_type": "code",
   "execution_count": 20,
   "id": "85acff79-5d0b-4671-ad90-1600763ca3a6",
   "metadata": {},
   "outputs": [
    {
     "name": "stdout",
     "output_type": "stream",
     "text": [
      "page_content='生活、仕事、教育。日々の暮らしや社会に関わるさまざまなものが、年齢や性別、時間や場所から自由になる世界が実現できる。ITの可能性は、まだまだ広がります。 そんなITの力で私たちが目指す「感動」や「幸せ」は、すべての人がやりたいことに挑戦できる未来、成長できる未来、成功を目指せる未来。だからこそ、あなたが実現したい未来を実現するための 「プラットフォーム」になりたい。' metadata={'H1': '六元素について'} 0.6186190696709234\n",
      "page_content='「プラットフォーム」になりたい。 私たち六元素は、「ITプロフェッショナル力」による顧客の課題解決と「社会課題」に挑む自社サービス開発で、顧客と社会に感動と幸せを創造する「チャレンジ・プラットフォームカンパニー」です。' metadata={'H1': '六元素について'} 3.3040027538216674\n",
      "page_content='顧客へ感動を、社員へ幸せを。' metadata={'H1': '六元素について', 'H2': '経営理念 PHILOSOPHY'} 0.4279916943149802\n",
      "page_content='ITの力で、感動と幸せを創造する。' metadata={'H1': '六元素について', 'H2': 'ミッション MISSION'} 0.7972234284189144\n",
      "page_content='「ITプロフェッショナル力」と「社会課題へ挑むベンチャーマインド」で、半歩先の未来価値を創造し続け、感動と幸せを提供する、「チャレンジ・プラットフォーム カンパニー」。' metadata={'H1': '六元素について', 'H2': 'ビジョン VISION'} 0.586024670750067\n",
      "page_content='We are CHONPS（必須元素） - Challenger やってみよう - Heart 情熱と心を込めよう - One team ワンチームになろう - New technology 先端技術を取り入れよう - Professionalプロでいよう - Study 学び続けよう' metadata={'H1': '六元素について', 'H2': 'バリュー VALUE'} 0.2539013476722841\n",
      "page_content='あらゆる生命は活動を維持するために酸素、炭素、窒素、水素、燐、硫黄という六つの元素が必要だとされています。私たちは、企業を発展させるためにも顧客、従業員、株主、社会、パートナー、ライバルという六つの元素が大切だと考えます。さらに中国では、まだ発見されていない未来の元素のことを「第六元素」とも言います。社名にはこれら二つの意味合いから、「堅実な基礎を築き、未来の価値を追求していく」という意味を込めています。' metadata={'H1': '六元素について', 'H2': '社名由来 ORIGIN OF COMPANY NAME', 'H3': '六元素の意味'} 2.3150258176110907\n"
     ]
    },
    {
     "data": {
      "text/html": [
       "<ul style=\"list-style: none;\"><li><div style=\"margin: 15px 0;  box-shadow: 0 4px 8px 0 rgba(0,0,0,0.2); transition: 0.3s;\"><pre style=\"background-color: #eee; font-size: 10px; border: 1px dashed #ccc; padding: 5px;\">{\n",
       "  \"H1\": \"六元素について\"\n",
       "}</pre><pre style=\"background-color: #eff; padding: 5px;\">「プラットフォーム」になりたい。 私たち六元素は、「ITプロフェッショナル力」による顧客の課題解決と「社会課題」に挑む自社サービス開発で、顧客と社会に感動と幸せを創造する「チャレンジ・プラットフォームカンパニー」です。</pre></div></li><li><div style=\"margin: 15px 0;  box-shadow: 0 4px 8px 0 rgba(0,0,0,0.2); transition: 0.3s;\"><pre style=\"background-color: #eee; font-size: 10px; border: 1px dashed #ccc; padding: 5px;\">{\n",
       "  \"H1\": \"六元素について\",\n",
       "  \"H2\": \"社名由来 ORIGIN OF COMPANY NAME\",\n",
       "  \"H3\": \"六元素の意味\"\n",
       "}</pre><pre style=\"background-color: #eff; padding: 5px;\">あらゆる生命は活動を維持するために酸素、炭素、窒素、水素、燐、硫黄という六つの元素が必要だとされています。私たちは、企業を発展させるためにも顧客、従業員、株主、社会、パートナー、ライバルという六つの元素が大切だと考えます。さらに中国では、まだ発見されていない未来の元素のことを「第六元素」とも言います。社名にはこれら二つの意味合いから、「堅実な基礎を築き、未来の価値を追求していく」という意味を込めています。</pre></div></li><li><div style=\"margin: 15px 0;  box-shadow: 0 4px 8px 0 rgba(0,0,0,0.2); transition: 0.3s;\"><pre style=\"background-color: #eee; font-size: 10px; border: 1px dashed #ccc; padding: 5px;\">{\n",
       "  \"H1\": \"六元素について\",\n",
       "  \"H2\": \"ミッション MISSION\"\n",
       "}</pre><pre style=\"background-color: #eff; padding: 5px;\">ITの力で、感動と幸せを創造する。</pre></div></li><li><div style=\"margin: 15px 0;  box-shadow: 0 4px 8px 0 rgba(0,0,0,0.2); transition: 0.3s;\"><pre style=\"background-color: #eee; font-size: 10px; border: 1px dashed #ccc; padding: 5px;\">{\n",
       "  \"H1\": \"六元素について\"\n",
       "}</pre><pre style=\"background-color: #eff; padding: 5px;\">生活、仕事、教育。日々の暮らしや社会に関わるさまざまなものが、年齢や性別、時間や場所から自由になる世界が実現できる。ITの可能性は、まだまだ広がります。 そんなITの力で私たちが目指す「感動」や「幸せ」は、すべての人がやりたいことに挑戦できる未来、成長できる未来、成功を目指せる未来。だからこそ、あなたが実現したい未来を実現するための 「プラットフォーム」になりたい。</pre></div></li>"
      ],
      "text/plain": [
       "<IPython.core.display.HTML object>"
      ]
     },
     "metadata": {},
     "output_type": "display_data"
    }
   ],
   "source": [
    "from langchain_community.retrievers import BM25Retriever\n",
    "from typing import List\n",
    "from sudachipy import tokenizer\n",
    "from sudachipy import dictionary\n",
    "\n",
    "# 默认BM25是按照空格切分句子，这对日语是无效的。\n",
    "# 这里使用sudachi (from ワークス徳島人工知能NLP研究所) 来分析日语。\n",
    "\n",
    "def generate_word_ngrams(text, i, j, binary=False):\n",
    "    \"\"\"\n",
    "    文字列を単語に分割し、指定した文字数のn-gramを生成する関数。\n",
    "\n",
    "    :param text: 文字列データ\n",
    "    :param i: n-gramの最小文字数\n",
    "    :param j: n-gramの最大文字数\n",
    "    :param binary: Trueの場合、重複を削除\n",
    "    :return: n-gramのリスト\n",
    "    \"\"\"\n",
    "\n",
    "    tokenizer_obj = dictionary.Dictionary(dict=\"full\").create()\n",
    "    mode = tokenizer.Tokenizer.SplitMode.A\n",
    "    tokens = tokenizer_obj.tokenize(text ,mode)\n",
    "    words = [token.surface() for token in tokens]\n",
    "\n",
    "    ngrams = []\n",
    "    \n",
    "    for n in range(i, j + 1):\n",
    "        for k in range(len(words) - n + 1):\n",
    "            ngram = tuple(words[k:k + n])\n",
    "            ngrams.append(ngram)\n",
    "    \n",
    "    if binary:\n",
    "        ngrams = list(set(ngrams))  # 重複を削除\n",
    "    \n",
    "    return ngrams\n",
    "\n",
    "def preprocess_func(text: str) -> List[str]:\n",
    "    return generate_word_ngrams(text,1, 1, True)\n",
    "\n",
    "\n",
    "retriever = BM25Retriever.from_documents(splits, preprocess_func=preprocess_func)\n",
    "\n",
    "scores = retriever.vectorizer.get_scores(preprocess_func(\"六元素の意味は何ですか。\"))\n",
    "for text, score in zip(splits, scores):\n",
    "    print(text, score)\n",
    "\n",
    "chunks = retriever.invoke(\"六元素の意味は何ですか。\")\n",
    "\n",
    "show_documents(chunks)"
   ]
  },
  {
   "cell_type": "markdown",
   "id": "725b5344-ffb7-45f7-a5c7-d761e379a5c2",
   "metadata": {},
   "source": [
    "Langchain的BM25检索器有个问题是，不论相似度高低，总是返回固定数量的片段。哪怕最高相似度为0，那么也返回相似度为0的片段。\n",
    "\n",
    "下面自定义的检索器可以改善这个问题。通过设定一个最低的`score_threshold`，忽略掉相似度过低的片段。"
   ]
  },
  {
   "cell_type": "code",
   "execution_count": 21,
   "id": "a88ad6f3-c389-47a7-9c59-89b8c4440846",
   "metadata": {},
   "outputs": [],
   "source": [
    "from langchain_community.retrievers import BM25Retriever\n",
    "from typing import List\n",
    "from sudachipy import tokenizer\n",
    "from sudachipy import dictionary\n",
    "\n",
    "class BM25RetrieverWithScores(BM25Retriever):\n",
    "    def get_relevant_documents_with_scores(self, query):\n",
    "        processed_query = self.preprocess_func(query)\n",
    "        scores = self.vectorizer.get_scores(processed_query)\n",
    "        docs_and_scores = [(doc, score) for doc, score in zip(self.docs, scores)]\n",
    "        sorted_docs_and_scores = sorted(docs_and_scores, key=lambda x: x[1], reverse=True)\n",
    "        return sorted_docs_and_scores[:self.k]\n",
    "\n",
    "    def _get_relevant_documents(self, query: str) -> List[Document]:\n",
    "        processed_query = self.preprocess_func(query)\n",
    "        scores = self.vectorizer.get_scores(processed_query)\n",
    "        docs_and_scores = [(doc, score) for doc, score in zip(self.docs, scores)]\n",
    "        docs_and_scores = sorted(docs_and_scores, key=lambda x: x[1], reverse=True)\n",
    "        threshold = self.metadata.get(\"score_threshold\", 0)\n",
    "        docs = []\n",
    "        for doc, score in docs_and_scores:\n",
    "            doc.metadata[\"score\"] = score\n",
    "            if score > threshold:\n",
    "                docs.append(doc)\n",
    "        return docs[:self.k]\n",
    "\n",
    "retriever = BM25RetrieverWithScores.from_documents(\n",
    "    splits,\n",
    "    preprocess_func=preprocess_func,\n",
    "    metadata = {\n",
    "        \"score_threshold\": 1.5\n",
    "    }\n",
    ")\n"
   ]
  },
  {
   "cell_type": "markdown",
   "id": "8f28dd90-d60e-448f-abc9-1b2c013dd02d",
   "metadata": {},
   "source": [
    "## 2.提问"
   ]
  },
  {
   "cell_type": "markdown",
   "id": "efa7b143-dd4b-4b73-96ab-49872a2a5e3f",
   "metadata": {},
   "source": [
    "### 2.1 提示文\n",
    "\n",
    "整体上，作为提示文模板的对话设计如下。\n",
    "\n",
    "输入：\n",
    "- `question`: 问题\n",
    "- `documents`: 问题相关的参考资料。注意，因为langchain的限制，这里需要`list[BaseMessage]`类型。\n",
    "\n",
    "输出:\n",
    "- 提示文。它主要包含一个对话，格式为`list[BaseMessage]`。"
   ]
  },
  {
   "cell_type": "code",
   "execution_count": 22,
   "id": "1b433852-b1e1-4da4-b02d-8fa28a40498e",
   "metadata": {},
   "outputs": [
    {
     "data": {
      "text/html": [
       "<ul style=\"list-style: none; margin: 5px 0;\"><li><div style=\"margin: 15px 0;\"><div style=\"text-align: right; font-size: 24px;\">🤖</div><pre style=\"background-color: #eff; float: right; padding: 5px; width: fit-content; box-shadow: 0 4px 8px 0 rgba(0,0,0,0.2); transition: 0.3s;   border-radius: 5px;\">What can I help you?</pre></div></li><li><div style=\"margin: 15px 0;\"><div style=\"text-align: left;font-size: 24px;\">👨🏻</div><pre style=\"background-color: #ffe; padding: 5px; width: fit-content; box-shadow: 0 4px 8px 0 rgba(0,0,0,0.2); transition: 0.3s; border-radius: 5px;\">Please answer my question using given documents.</pre></div></li><li><div style=\"margin: 15px 0;\"><div style=\"text-align: right; font-size: 24px;\">🤖</div><pre style=\"background-color: #eff; float: right; padding: 5px; width: fit-content; box-shadow: 0 4px 8px 0 rgba(0,0,0,0.2); transition: 0.3s;   border-radius: 5px;\">OK.</pre></div></li><li><div style=\"margin: 15px 0;\"><div style=\"text-align: left;font-size: 24px;\">👨🏻</div><pre style=\"background-color: #ffe; padding: 5px; width: fit-content; box-shadow: 0 4px 8px 0 rgba(0,0,0,0.2); transition: 0.3s; border-radius: 5px;\">Document 1 ...</pre></div></li><li><div style=\"margin: 15px 0;\"><div style=\"text-align: right; font-size: 24px;\">🤖</div><pre style=\"background-color: #eff; float: right; padding: 5px; width: fit-content; box-shadow: 0 4px 8px 0 rgba(0,0,0,0.2); transition: 0.3s;   border-radius: 5px;\">OK.</pre></div></li><li><div style=\"margin: 15px 0;\"><div style=\"text-align: left;font-size: 24px;\">👨🏻</div><pre style=\"background-color: #ffe; padding: 5px; width: fit-content; box-shadow: 0 4px 8px 0 rgba(0,0,0,0.2); transition: 0.3s; border-radius: 5px;\">Here is my question.\n",
       "Question: What is your name?</pre></div></li>"
      ],
      "text/plain": [
       "<IPython.core.display.HTML object>"
      ]
     },
     "metadata": {},
     "output_type": "display_data"
    }
   ],
   "source": [
    "from langchain_core.prompts import ChatPromptTemplate, MessagesPlaceholder\n",
    "\n",
    "prompt_template = ChatPromptTemplate.from_messages([\n",
    "    (\"ai\", \"What can I help you?\"),\n",
    "    (\"human\", \"Please answer my question using given documents.\"),\n",
    "    (\"ai\", \"OK.\"),\n",
    "    (\"placeholder\", \"{documents}\"),\n",
    "    (\"human\", \"Here is my question.\\nQuestion: {question}\")\n",
    "])\n",
    "\n",
    "prompt = prompt_template.invoke({\n",
    "    \"question\": \"What is your name?\",\n",
    "    \"documents\": [\n",
    "        HumanMessage(content=\"Document 1 ...\"),\n",
    "        AIMessage(content=\"OK.\")        \n",
    "    ]\n",
    "})\n",
    "\n",
    "show_messages(prompt.messages)"
   ]
  },
  {
   "cell_type": "markdown",
   "id": "3f0049da-a1d3-45fb-864d-2b9e08469334",
   "metadata": {},
   "source": [
    "检索得到的文章片段是langchain的`Document`类型。本例子中，作为输入的`documents`数据应该是消息列表`list[BaseMessage]`类型。\n",
    "\n",
    "下面就实现了一个从`list[Document]`构造`list[BaseMessage]`的函数。"
   ]
  },
  {
   "cell_type": "code",
   "execution_count": 23,
   "id": "acd901fa-bbd8-467c-8d2c-4a8d60d31b40",
   "metadata": {},
   "outputs": [
    {
     "data": {
      "text/html": [
       "<ul style=\"list-style: none; margin: 5px 0;\"><li><div style=\"margin: 15px 0;\"><div style=\"text-align: left;font-size: 24px;\">👨🏻</div><pre style=\"background-color: #ffe; padding: 5px; width: fit-content; box-shadow: 0 4px 8px 0 rgba(0,0,0,0.2); transition: 0.3s; border-radius: 5px;\">The documents will send to you one by one.</pre></div></li><li><div style=\"margin: 15px 0;\"><div style=\"text-align: right; font-size: 24px;\">🤖</div><pre style=\"background-color: #eff; float: right; padding: 5px; width: fit-content; box-shadow: 0 4px 8px 0 rgba(0,0,0,0.2); transition: 0.3s;   border-radius: 5px;\">OK. Please show them one by one.</pre></div></li><li><div style=\"margin: 15px 0;\"><div style=\"text-align: left;font-size: 24px;\">👨🏻</div><pre style=\"background-color: #ffe; padding: 5px; width: fit-content; box-shadow: 0 4px 8px 0 rgba(0,0,0,0.2); transition: 0.3s; border-radius: 5px;\">[Document 1]\n",
       "Metadata: \n",
       "- H1: 六元素について\n",
       "- score: 3.3040027538216674 \n",
       "\n",
       "Content: \n",
       " 「プラットフォーム」になりたい。 私たち六元素は、「ITプロフェッショナル力」による顧客の課題解決と「社会課題」に挑む自社サービス開発で、顧客と社会に感動と幸せを創造する「チャレンジ・プラットフォームカンパニー」です。</pre></div></li><li><div style=\"margin: 15px 0;\"><div style=\"text-align: right; font-size: 24px;\">🤖</div><pre style=\"background-color: #eff; float: right; padding: 5px; width: fit-content; box-shadow: 0 4px 8px 0 rgba(0,0,0,0.2); transition: 0.3s;   border-radius: 5px;\">OK.</pre></div></li><li><div style=\"margin: 15px 0;\"><div style=\"text-align: left;font-size: 24px;\">👨🏻</div><pre style=\"background-color: #ffe; padding: 5px; width: fit-content; box-shadow: 0 4px 8px 0 rgba(0,0,0,0.2); transition: 0.3s; border-radius: 5px;\">[Document 2]\n",
       "Metadata: \n",
       "- H1: 六元素について\n",
       "- H2: 社名由来 ORIGIN OF COMPANY NAME\n",
       "- H3: 六元素の意味\n",
       "- score: 2.3150258176110907 \n",
       "\n",
       "Content: \n",
       " あらゆる生命は活動を維持するために酸素、炭素、窒素、水素、燐、硫黄という六つの元素が必要だとされています。私たちは、企業を発展させるためにも顧客、従業員、株主、社会、パートナー、ライバルという六つの元素が大切だと考えます。さらに中国では、まだ発見されていない未来の元素のことを「第六元素」とも言います。社名にはこれら二つの意味合いから、「堅実な基礎を築き、未来の価値を追求していく」という意味を込めています。</pre></div></li><li><div style=\"margin: 15px 0;\"><div style=\"text-align: right; font-size: 24px;\">🤖</div><pre style=\"background-color: #eff; float: right; padding: 5px; width: fit-content; box-shadow: 0 4px 8px 0 rgba(0,0,0,0.2); transition: 0.3s;   border-radius: 5px;\">OK.</pre></div></li><li><div style=\"margin: 15px 0;\"><div style=\"text-align: left;font-size: 24px;\">👨🏻</div><pre style=\"background-color: #ffe; padding: 5px; width: fit-content; box-shadow: 0 4px 8px 0 rgba(0,0,0,0.2); transition: 0.3s; border-radius: 5px;\">OK. All 2 documents are sent to you.</pre></div></li><li><div style=\"margin: 15px 0;\"><div style=\"text-align: right; font-size: 24px;\">🤖</div><pre style=\"background-color: #eff; float: right; padding: 5px; width: fit-content; box-shadow: 0 4px 8px 0 rgba(0,0,0,0.2); transition: 0.3s;   border-radius: 5px;\">Thank you. I will answer your questions based on those 2 documents.</pre></div></li>"
      ],
      "text/plain": [
       "<IPython.core.display.HTML object>"
      ]
     },
     "metadata": {},
     "output_type": "display_data"
    }
   ],
   "source": [
    "from langchain_core.runnables import RunnableLambda\n",
    "from langchain_core.documents import Document\n",
    "from langchain_core.messages import BaseMessage, HumanMessage, AIMessage\n",
    "# 将Documents一览变换成Message列表\n",
    "def convert(docs: list[Document]) -> list[BaseMessage]:\n",
    "    if len(docs) == 0:\n",
    "      return [\n",
    "          HumanMessage(content=\"Sorry. There is no documents found for my question. Please answer my questions without reference documents.\"),\n",
    "          AIMessage(content=\"OK. I will answer your questions by original training data.\")\n",
    "      ]\n",
    "    else:\n",
    "      messages: list[BaseMessage] = []\n",
    "      messages.extend([\n",
    "          HumanMessage(content=\"The documents will send to you one by one.\"),\n",
    "          AIMessage(content=\"OK. Please show them one by one.\")\n",
    "      ])\n",
    "      for i, doc in enumerate(docs):\n",
    "        meta = \"\\n\".join(f\"- {k}: {v}\" for k, v in doc.metadata.items())\n",
    "        messages.extend([\n",
    "          HumanMessage(content=f\"[Document {i+1}]\\nMetadata: \\n{meta} \\n\\nContent: \\n {doc.page_content}\"),\n",
    "          AIMessage(content=\"OK.\")\n",
    "        ])\n",
    "      messages.extend([\n",
    "          HumanMessage(content=f\"OK. All {len(docs)} documents are sent to you.\"),\n",
    "          AIMessage(content=f\"Thank you. I will answer your questions based on those {len(docs)} documents.\")\n",
    "      ])\n",
    "      return messages\n",
    "\n",
    "documents_parser = RunnableLambda(convert)\n",
    "\n",
    "# 测试一下\n",
    "messages = documents_parser.invoke(retriever.invoke(\"六元素の意味は何ですか。\"))\n",
    "show_messages(messages)"
   ]
  },
  {
   "cell_type": "markdown",
   "id": "e99250c6-907b-453a-9b3d-d9c1c73ef781",
   "metadata": {},
   "source": [
    "进一步改进，让其满足如下输入/输出的格式。\n",
    "\n",
    "- 输入：\n",
    "```\n",
    "\"What is your name?\"\n",
    "```\n",
    "\n",
    "- 输出：\n",
    "```json\n",
    "{\n",
    "    \"question\": \"What is your name?\",\n",
    "    \"documents\": [\n",
    "        // Document型的列表，表示相关文档片段一览\n",
    "    ]\n",
    "}"
   ]
  },
  {
   "cell_type": "code",
   "execution_count": 24,
   "id": "16c8e114-b761-468b-b236-098032ad085d",
   "metadata": {},
   "outputs": [],
   "source": [
    "from langchain_core.runnables import RunnablePassthrough, RunnableLambda, RunnableParallel\n",
    "\n",
    "retriever_chain = RunnableParallel(\n",
    "    question = RunnablePassthrough(),\n",
    "    documents = RunnablePassthrough() | retriever | documents_parser\n",
    ")"
   ]
  },
  {
   "cell_type": "markdown",
   "id": "84120ae9-583d-4864-bb60-82f74307b085",
   "metadata": {},
   "source": [
    "串联起来"
   ]
  },
  {
   "cell_type": "code",
   "execution_count": 25,
   "id": "0d87384d-9046-4adb-a750-5811079a1385",
   "metadata": {},
   "outputs": [
    {
     "data": {
      "text/html": [
       "<ul style=\"list-style: none; margin: 5px 0;\"><li><div style=\"margin: 15px 0;\"><div style=\"text-align: right; font-size: 24px;\">🤖</div><pre style=\"background-color: #eff; float: right; padding: 5px; width: fit-content; box-shadow: 0 4px 8px 0 rgba(0,0,0,0.2); transition: 0.3s;   border-radius: 5px;\">What can I help you?</pre></div></li><li><div style=\"margin: 15px 0;\"><div style=\"text-align: left;font-size: 24px;\">👨🏻</div><pre style=\"background-color: #ffe; padding: 5px; width: fit-content; box-shadow: 0 4px 8px 0 rgba(0,0,0,0.2); transition: 0.3s; border-radius: 5px;\">Please answer my question using given documents.</pre></div></li><li><div style=\"margin: 15px 0;\"><div style=\"text-align: right; font-size: 24px;\">🤖</div><pre style=\"background-color: #eff; float: right; padding: 5px; width: fit-content; box-shadow: 0 4px 8px 0 rgba(0,0,0,0.2); transition: 0.3s;   border-radius: 5px;\">OK.</pre></div></li><li><div style=\"margin: 15px 0;\"><div style=\"text-align: left;font-size: 24px;\">👨🏻</div><pre style=\"background-color: #ffe; padding: 5px; width: fit-content; box-shadow: 0 4px 8px 0 rgba(0,0,0,0.2); transition: 0.3s; border-radius: 5px;\">The documents will send to you one by one.</pre></div></li><li><div style=\"margin: 15px 0;\"><div style=\"text-align: right; font-size: 24px;\">🤖</div><pre style=\"background-color: #eff; float: right; padding: 5px; width: fit-content; box-shadow: 0 4px 8px 0 rgba(0,0,0,0.2); transition: 0.3s;   border-radius: 5px;\">OK. Please show them one by one.</pre></div></li><li><div style=\"margin: 15px 0;\"><div style=\"text-align: left;font-size: 24px;\">👨🏻</div><pre style=\"background-color: #ffe; padding: 5px; width: fit-content; box-shadow: 0 4px 8px 0 rgba(0,0,0,0.2); transition: 0.3s; border-radius: 5px;\">[Document 1]\n",
       "Metadata: \n",
       "- H1: 六元素について\n",
       "- score: 3.3040027538216674 \n",
       "\n",
       "Content: \n",
       " 「プラットフォーム」になりたい。 私たち六元素は、「ITプロフェッショナル力」による顧客の課題解決と「社会課題」に挑む自社サービス開発で、顧客と社会に感動と幸せを創造する「チャレンジ・プラットフォームカンパニー」です。</pre></div></li><li><div style=\"margin: 15px 0;\"><div style=\"text-align: right; font-size: 24px;\">🤖</div><pre style=\"background-color: #eff; float: right; padding: 5px; width: fit-content; box-shadow: 0 4px 8px 0 rgba(0,0,0,0.2); transition: 0.3s;   border-radius: 5px;\">OK.</pre></div></li><li><div style=\"margin: 15px 0;\"><div style=\"text-align: left;font-size: 24px;\">👨🏻</div><pre style=\"background-color: #ffe; padding: 5px; width: fit-content; box-shadow: 0 4px 8px 0 rgba(0,0,0,0.2); transition: 0.3s; border-radius: 5px;\">[Document 2]\n",
       "Metadata: \n",
       "- H1: 六元素について\n",
       "- H2: 社名由来 ORIGIN OF COMPANY NAME\n",
       "- H3: 六元素の意味\n",
       "- score: 2.3150258176110907 \n",
       "\n",
       "Content: \n",
       " あらゆる生命は活動を維持するために酸素、炭素、窒素、水素、燐、硫黄という六つの元素が必要だとされています。私たちは、企業を発展させるためにも顧客、従業員、株主、社会、パートナー、ライバルという六つの元素が大切だと考えます。さらに中国では、まだ発見されていない未来の元素のことを「第六元素」とも言います。社名にはこれら二つの意味合いから、「堅実な基礎を築き、未来の価値を追求していく」という意味を込めています。</pre></div></li><li><div style=\"margin: 15px 0;\"><div style=\"text-align: right; font-size: 24px;\">🤖</div><pre style=\"background-color: #eff; float: right; padding: 5px; width: fit-content; box-shadow: 0 4px 8px 0 rgba(0,0,0,0.2); transition: 0.3s;   border-radius: 5px;\">OK.</pre></div></li><li><div style=\"margin: 15px 0;\"><div style=\"text-align: left;font-size: 24px;\">👨🏻</div><pre style=\"background-color: #ffe; padding: 5px; width: fit-content; box-shadow: 0 4px 8px 0 rgba(0,0,0,0.2); transition: 0.3s; border-radius: 5px;\">OK. All 2 documents are sent to you.</pre></div></li><li><div style=\"margin: 15px 0;\"><div style=\"text-align: right; font-size: 24px;\">🤖</div><pre style=\"background-color: #eff; float: right; padding: 5px; width: fit-content; box-shadow: 0 4px 8px 0 rgba(0,0,0,0.2); transition: 0.3s;   border-radius: 5px;\">Thank you. I will answer your questions based on those 2 documents.</pre></div></li><li><div style=\"margin: 15px 0;\"><div style=\"text-align: left;font-size: 24px;\">👨🏻</div><pre style=\"background-color: #ffe; padding: 5px; width: fit-content; box-shadow: 0 4px 8px 0 rgba(0,0,0,0.2); transition: 0.3s; border-radius: 5px;\">Here is my question.\n",
       "Question: 六元素の意味は何ですか。</pre></div></li>"
      ],
      "text/plain": [
       "<IPython.core.display.HTML object>"
      ]
     },
     "metadata": {},
     "output_type": "display_data"
    }
   ],
   "source": [
    "prompt_builder = retriever_chain | prompt_template\n",
    "prompt = prompt_builder.invoke(\"六元素の意味は何ですか。\")\n",
    "\n",
    "show_messages(prompt.messages)"
   ]
  },
  {
   "cell_type": "markdown",
   "id": "823992e5-47e3-4cf0-b3d4-d89fb9e13353",
   "metadata": {},
   "source": [
    "### 2.2 LLM调用\n",
    "\n",
    "最后一步是向LLM提问。"
   ]
  },
  {
   "cell_type": "code",
   "execution_count": 26,
   "id": "fd73b01c-1b21-42bc-b828-9b1520040581",
   "metadata": {},
   "outputs": [
    {
     "data": {
      "text/html": [
       "<div style=\"background-color: #eee; padding: 5px;\"><div style=\"font-size: 9px; color: #333;\">id=run-da686ea5-dbd7-4338-a803-9ae2ab6b44c5-0</div><pre style=\"background-color: transparent; border: 1px dash #ccc; padding: 5px; width: fit-content;\">六元素の意味は二つあります。一つ目は、生命が活動を維持するために必要な酸素、炭素、窒素、水素、燐、硫黄という六つの元素を指します。二つ目は、企業を発展させるために必要な顧客、従業員、株主、社会、パートナー、ライバルという六つの要素を指します。さらに中国では、まだ発見されていない未来の元素のことを「第六元素」とも言います。これらの意味から、「堅実な基礎を築き、未来の価値を追求していく」という意味が込められています。</pre><pre style=\"font-size: 9px;\">{\n",
       "  \"token_usage\": {\n",
       "    \"completion_tokens\": 216,\n",
       "    \"prompt_tokens\": 568,\n",
       "    \"total_tokens\": 784\n",
       "  },\n",
       "  \"model_name\": \"gpt-4\",\n",
       "  \"system_fingerprint\": null,\n",
       "  \"finish_reason\": \"stop\",\n",
       "  \"logprobs\": null\n",
       "}</pre></div>"
      ],
      "text/plain": [
       "<IPython.core.display.HTML object>"
      ]
     },
     "metadata": {},
     "output_type": "display_data"
    }
   ],
   "source": [
    "from langchain_openai import ChatOpenAI\n",
    "\n",
    "llm = ChatOpenAI(\n",
    "    model=\"gpt-4\",\n",
    "    temperature=0,\n",
    "    max_tokens=None,\n",
    "    timeout=None,\n",
    "    max_retries=2,\n",
    ")\n",
    "\n",
    "qa = prompt_builder | llm\n",
    "\n",
    "ans = qa.invoke(\"六元素の意味は何ですか。\")\n",
    "\n",
    "show_answer(ans)"
   ]
  },
  {
   "cell_type": "markdown",
   "id": "bbeb76d5-bac6-4f22-b4ec-089e025e2525",
   "metadata": {},
   "source": [
    "## 3.界面"
   ]
  },
  {
   "cell_type": "markdown",
   "id": "7e2df0f2-febc-43ee-80ff-b27126500b17",
   "metadata": {},
   "source": [
    "### 3.1 Jupyter的简单界面"
   ]
  },
  {
   "cell_type": "code",
   "execution_count": 27,
   "id": "4685890b-9f3f-4d1b-b779-aa9c0b64eb0c",
   "metadata": {},
   "outputs": [
    {
     "data": {
      "application/vnd.jupyter.widget-view+json": {
       "model_id": "55f031c01a72402592084789f414c303",
       "version_major": 2,
       "version_minor": 0
      },
      "text/plain": [
       "Output(layout=Layout(height='300px', padding='10px'))"
      ]
     },
     "metadata": {},
     "output_type": "display_data"
    },
    {
     "data": {
      "application/vnd.jupyter.widget-view+json": {
       "model_id": "2f6088947292442784718245c76eeda3",
       "version_major": 2,
       "version_minor": 0
      },
      "text/plain": [
       "Textarea(value='', description='User:', layout=Layout(width='auto'), placeholder='Enter text here...', rows=2)"
      ]
     },
     "metadata": {},
     "output_type": "display_data"
    },
    {
     "data": {
      "application/vnd.jupyter.widget-view+json": {
       "model_id": "9c2c90b643cb41a9850eadeaf04a2e1d",
       "version_major": 2,
       "version_minor": 0
      },
      "text/plain": [
       "Button(description='送信', style=ButtonStyle())"
      ]
     },
     "metadata": {},
     "output_type": "display_data"
    }
   ],
   "source": [
    "import ipywidgets as widgets\n",
    "from IPython.display import display, clear_output\n",
    "from langchain_core.messages import BaseMessage, HumanMessage, AIMessage\n",
    "\n",
    "output = widgets.Output(layout={\"height\": \"300px\", \"padding\": \"10px\"})\n",
    "\n",
    "user_input = widgets.Textarea(value='',\n",
    "                              placeholder='Enter text here...',\n",
    "                              description='User:',\n",
    "                              rows=2,\n",
    "                              layout=widgets.Layout(width='auto'))\n",
    "\n",
    "# Create button for user to click to send their message\n",
    "send_button = widgets.Button(description='送信')\n",
    "\n",
    "conversation_history = []\n",
    "\n",
    "def send_button_clicked(b):\n",
    "    # Append user input to conversation history\n",
    "    conversation_history.append(HumanMessage(content = user_input.value))    \n",
    "    response = qa.invoke(user_input.value)\n",
    "    conversation_history.append(response)\n",
    "\n",
    "    with output:\n",
    "        clear_output(wait = False)\n",
    "        show_messages(conversation_history)\n",
    "    \n",
    "    # Clear user input box\n",
    "    user_input.value = ''\n",
    "\n",
    "send_button.on_click(send_button_clicked)\n",
    "\n",
    "# Display everything\n",
    "display(output, user_input, send_button)"
   ]
  },
  {
   "cell_type": "code",
   "execution_count": null,
   "id": "0aa782e4-e10a-4a40-8174-14c23b183bc4",
   "metadata": {},
   "outputs": [],
   "source": []
  }
 ],
 "metadata": {
  "kernelspec": {
   "display_name": "Python 3 (ipykernel)",
   "language": "python",
   "name": "python3"
  },
  "language_info": {
   "codemirror_mode": {
    "name": "ipython",
    "version": 3
   },
   "file_extension": ".py",
   "mimetype": "text/x-python",
   "name": "python",
   "nbconvert_exporter": "python",
   "pygments_lexer": "ipython3",
   "version": "3.11.6"
  }
 },
 "nbformat": 4,
 "nbformat_minor": 5
}
