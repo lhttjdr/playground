{
 "cells": [
  {
   "cell_type": "markdown",
   "id": "a74c2daf-942d-4228-a5e6-77e6bd28bf7a",
   "metadata": {},
   "source": [
    "# 例: 会话"
   ]
  },
  {
   "cell_type": "markdown",
   "id": "dff603dd-39ac-4f14-84b0-1c33d27b2eb1",
   "metadata": {},
   "source": [
    "首先准备一些工具函数，以及资料库创建部分。这一部分和RAG的例子没有区别，因此直接使用相同的代码，不再解释。"
   ]
  },
  {
   "cell_type": "code",
   "execution_count": 65,
   "id": "ba31126d-0e37-46af-9285-ed0402ec4bfe",
   "metadata": {},
   "outputs": [
    {
     "data": {
      "text/html": [
       "<ul style=\"list-style: none;\"><li><div style=\"margin: 15px 0;  box-shadow: 0 4px 8px 0 rgba(0,0,0,0.2); transition: 0.3s;\"><pre style=\"background-color: #eee; font-size: 10px; border: 1px dashed #ccc; padding: 5px;\">{\n",
       "  \"H1\": \"六元素について\",\n",
       "  \"score\": 3.3040027538216674\n",
       "}</pre><pre style=\"background-color: #eff; padding: 5px;\">「プラットフォーム」になりたい。 私たち六元素は、「ITプロフェッショナル力」による顧客の課題解決と「社会課題」に挑む自社サービス開発で、顧客と社会に感動と幸せを創造する「チャレンジ・プラットフォームカンパニー」です。</pre></div></li><li><div style=\"margin: 15px 0;  box-shadow: 0 4px 8px 0 rgba(0,0,0,0.2); transition: 0.3s;\"><pre style=\"background-color: #eee; font-size: 10px; border: 1px dashed #ccc; padding: 5px;\">{\n",
       "  \"H1\": \"六元素について\",\n",
       "  \"H2\": \"社名由来 ORIGIN OF COMPANY NAME\",\n",
       "  \"H3\": \"六元素の意味\",\n",
       "  \"score\": 2.315025817611091\n",
       "}</pre><pre style=\"background-color: #eff; padding: 5px;\">あらゆる生命は活動を維持するために酸素、炭素、窒素、水素、燐、硫黄という六つの元素が必要だとされています。私たちは、企業を発展させるためにも顧客、従業員、株主、社会、パートナー、ライバルという六つの元素が大切だと考えます。さらに中国では、まだ発見されていない未来の元素のことを「第六元素」とも言います。社名にはこれら二つの意味合いから、「堅実な基礎を築き、未来の価値を追求していく」という意味を込めています。</pre></div></li></ul>"
      ],
      "text/plain": [
       "<IPython.core.display.HTML object>"
      ]
     },
     "metadata": {},
     "output_type": "display_data"
    }
   ],
   "source": [
    "from langchain_core.documents import Document\n",
    "from langchain_core.messages import BaseMessage, HumanMessage, AIMessage\n",
    "import json\n",
    "\n",
    "def show_documents(docs: list[Document]):\n",
    "    from IPython.display import HTML, display\n",
    "    html = \"\"\n",
    "    html += \"<ul style=\\\"list-style: none;\\\">\"\n",
    "    for doc in docs:\n",
    "      html += \"<li><div style=\\\"margin: 15px 0;  box-shadow: 0 4px 8px 0 rgba(0,0,0,0.2); transition: 0.3s;\\\">\"\n",
    "      html+=f\"<pre style=\\\"background-color: #eee; font-size: 10px; border: 1px dashed #ccc; padding: 5px;\\\">{json.dumps(doc.metadata, indent=2, ensure_ascii=False)}</pre>\"\n",
    "      html+=f\"<pre style=\\\"background-color: #eff; padding: 5px;\\\">{doc.page_content}</pre>\"\n",
    "      html+=\"</div></li>\"\n",
    "    html += \"</ul>\"\n",
    "    display(HTML(html))\n",
    "\n",
    "def show_messages(messages: list[BaseMessage]):\n",
    "    from IPython.display import HTML, display\n",
    "    html = \"\"\n",
    "    html += \"<ul style=\\\"list-style: none; margin: 5px 0;\\\">\"\n",
    "    for msg in messages:\n",
    "      html += \"<li><div style=\\\"margin: 15px 5px;\\\">\"\n",
    "      match msg.type:\n",
    "        case \"ai\":\n",
    "            html += \"<div style=\\\"text-align: right; font-size: 24px;\\\">🤖</div>\"\n",
    "            html+=f\"<pre style=\\\"background-color: #eff; float: right; padding: 5px; width: fit-content; box-shadow: 0 4px 8px 0 rgba(0,0,0,0.2); transition: 0.3s;   border-radius: 5px;\\\">{msg.content}</pre>\"\n",
    "        case \"human\":\n",
    "            html += \"<div style=\\\"text-align: left;font-size: 24px;\\\">👨🏻</div>\"\n",
    "            html+=f\"<pre style=\\\"background-color: #ffe; padding: 5px; width: fit-content; box-shadow: 0 4px 8px 0 rgba(0,0,0,0.2); transition: 0.3s; border-radius: 5px;\\\">{msg.content}</pre>\"\n",
    "        case _:\n",
    "            html += f\"<div style=\\\"text-align: left;font-size: 24px;\\\">{msg.type}</div>\"\n",
    "            html+=f\"<pre style=\\\"background-color: #eee; padding: 5px;width: fit-content; box-shadow: 0 4px 8px 0 rgba(0,0,0,0.2); transition: 0.3s;\\\">{msg.content}</pre>\"\n",
    "      html+=\"</div></li>\"\n",
    "    html += \"</ul>\"\n",
    "    display(HTML(html))\n",
    "\n",
    "def show_answer(message: AIMessage):\n",
    "    from IPython.display import HTML, display\n",
    "    html = \"\"\n",
    "    html += \"<div style=\\\"background-color: #eee; padding: 5px;\\\">\"\n",
    "    html += f\"<div style=\\\"font-size: 9px; color: #333;\\\">id={message.id}</div>\"\n",
    "    html += f\"<pre style=\\\"background-color: transparent; border: 1px dash #ccc; padding: 5px; width: fit-content;\\\">{message.content}</pre>\"\n",
    "    html += f\"<pre style=\\\"font-size: 9px;\\\">{json.dumps(message.response_metadata, indent=2)}</pre>\"\n",
    "    html += \"</div>\"\n",
    "    display(HTML(html))\n",
    "\n",
    "markdown_document = \"\"\"\n",
    "# 六元素について\n",
    "\n",
    "生活、仕事、教育。日々の暮らしや社会に関わるさまざまなものが、年齢や性別、時間や場所から自由になる世界が実現できる。ITの可能性は、まだまだ広がります。\n",
    "\n",
    "そんなITの力で私たちが目指す「感動」や「幸せ」は、すべての人がやりたいことに挑戦できる未来、成長できる未来、成功を目指せる未来。だからこそ、あなたが実現したい未来を実現するための\n",
    "「プラットフォーム」になりたい。\n",
    "\n",
    "私たち六元素は、「ITプロフェッショナル力」による顧客の課題解決と「社会課題」に挑む自社サービス開発で、顧客と社会に感動と幸せを創造する「チャレンジ・プラットフォームカンパニー」です。\n",
    "\n",
    "## 経営理念 PHILOSOPHY\n",
    "\n",
    "顧客へ感動を、社員へ幸せを。\n",
    "\n",
    "## ミッション MISSION\n",
    "\n",
    "ITの力で、感動と幸せを創造する。\n",
    "\n",
    "## ビジョン VISION\n",
    "\n",
    "「ITプロフェッショナル力」と「社会課題へ挑むベンチャーマインド」で、半歩先の未来価値を創造し続け、感動と幸せを提供する、「チャレンジ・プラットフォーム カンパニー」。\n",
    "\n",
    "## バリュー VALUE\n",
    "\n",
    "We are CHONPS（必須元素）\n",
    "\n",
    "- Challenger やってみよう\n",
    "- Heart 情熱と心を込めよう\n",
    "- One team ワンチームになろう\n",
    "- New technology 先端技術を取り入れよう\n",
    "- Professional　プロでいよう\n",
    "- Study 学び続けよう\n",
    "\n",
    "## 社名由来 ORIGIN OF COMPANY NAME\n",
    "\n",
    "### 六元素の意味\n",
    "\n",
    "あらゆる生命は活動を維持するために酸素、炭素、窒素、水素、燐、硫黄という六つの元素が必要だとされています。私たちは、企業を発展させるためにも顧客、従業員、株主、社会、パートナー、ライバルという六つの元素が大切だと考えます。さらに中国では、まだ発見されていない未来の元素のことを「第六元素」とも言います。社名にはこれら二つの意味合いから、「堅実な基礎を築き、未来の価値を追求していく」という意味を込めています。\n",
    "\n",
    "\"\"\"\n",
    "\n",
    "from langchain_text_splitters import MarkdownHeaderTextSplitter\n",
    "\n",
    "headers_to_split_on = [\n",
    "    (\"#\", \"H1\"),\n",
    "    (\"##\", \"H2\"),\n",
    "    (\"###\", \"H3\"),\n",
    "]\n",
    "\n",
    "# MD splits\n",
    "markdown_splitter = MarkdownHeaderTextSplitter(\n",
    "    headers_to_split_on=headers_to_split_on,\n",
    "    strip_headers=True\n",
    ")\n",
    "md_header_splits = markdown_splitter.split_text(markdown_document)\n",
    "\n",
    "from unstructured.partition.md import partition_md\n",
    "\n",
    "for doc in md_header_splits:\n",
    "  doc.page_content = text = \"\\n\".join([str(e) for e in partition_md(text=doc.page_content)])\n",
    "\n",
    "# Char-level splits\n",
    "from langchain_text_splitters import RecursiveCharacterTextSplitter\n",
    "\n",
    "chunk_size = 250\n",
    "chunk_overlap = 30\n",
    "text_splitter = RecursiveCharacterTextSplitter(\n",
    "    chunk_size=chunk_size, chunk_overlap=chunk_overlap\n",
    ")\n",
    "\n",
    "# Split\n",
    "splits = text_splitter.split_documents(md_header_splits)\n",
    "\n",
    "from langchain_community.retrievers import BM25Retriever\n",
    "from typing import List\n",
    "from sudachipy import tokenizer\n",
    "from sudachipy import dictionary\n",
    "\n",
    "class BM25RetrieverWithScores(BM25Retriever):\n",
    "    def get_relevant_documents_with_scores(self, query):\n",
    "        processed_query = self.preprocess_func(query)\n",
    "        scores = self.vectorizer.get_scores(processed_query)\n",
    "        docs_and_scores = [(doc, score) for doc, score in zip(self.docs, scores)]\n",
    "        sorted_docs_and_scores = sorted(docs_and_scores, key=lambda x: x[1], reverse=True)\n",
    "        return sorted_docs_and_scores[:self.k]\n",
    "\n",
    "    def _get_relevant_documents(self, query: str) -> List[Document]:\n",
    "        processed_query = self.preprocess_func(query)\n",
    "        scores = self.vectorizer.get_scores(processed_query)\n",
    "        docs_and_scores = [(doc, score) for doc, score in zip(self.docs, scores)]\n",
    "        docs_and_scores = sorted(docs_and_scores, key=lambda x: x[1], reverse=True)\n",
    "        threshold = self.metadata.get(\"score_threshold\", 0)\n",
    "        docs = []\n",
    "        for doc, score in docs_and_scores:\n",
    "            doc.metadata[\"score\"] = score\n",
    "            if score > threshold:\n",
    "                docs.append(doc)\n",
    "        return docs[:self.k]\n",
    "\n",
    "\n",
    "# 默认BM25是按照空格切分句子，这对日语是无效的。\n",
    "# 这里使用sudachi (from ワークス徳島人工知能NLP研究所) 来分析日语。\n",
    "\n",
    "def generate_word_ngrams(text, i, j, binary=False):\n",
    "    \"\"\"\n",
    "    文字列を単語に分割し、指定した文字数のn-gramを生成する関数。\n",
    "\n",
    "    :param text: 文字列データ\n",
    "    :param i: n-gramの最小文字数\n",
    "    :param j: n-gramの最大文字数\n",
    "    :param binary: Trueの場合、重複を削除\n",
    "    :return: n-gramのリスト\n",
    "    \"\"\"\n",
    "\n",
    "    tokenizer_obj = dictionary.Dictionary(dict=\"full\").create()\n",
    "    mode = tokenizer.Tokenizer.SplitMode.A\n",
    "    tokens = tokenizer_obj.tokenize(text ,mode)\n",
    "    words = [token.surface() for token in tokens]\n",
    "\n",
    "    ngrams = []\n",
    "    \n",
    "    for n in range(i, j + 1):\n",
    "        for k in range(len(words) - n + 1):\n",
    "            ngram = tuple(words[k:k + n])\n",
    "            ngrams.append(ngram)\n",
    "    \n",
    "    if binary:\n",
    "        ngrams = list(set(ngrams))  # 重複を削除\n",
    "    \n",
    "    return ngrams\n",
    "\n",
    "def preprocess_func(text: str) -> List[str]:\n",
    "    return generate_word_ngrams(text,1, 1, True)\n",
    "\n",
    "retriever = BM25RetrieverWithScores.from_documents(\n",
    "    splits,\n",
    "    preprocess_func=preprocess_func,\n",
    "    metadata = {\n",
    "        \"score_threshold\": 1.5\n",
    "    }\n",
    ")\n",
    "\n",
    "chunks = retriever.invoke(\"六元素の意味は何ですか。\")\n",
    "\n",
    "show_documents(chunks)"
   ]
  },
  {
   "cell_type": "markdown",
   "id": "5a01b808-1abf-454e-a58d-457ed1e198f2",
   "metadata": {},
   "source": [
    "## 1. 记忆"
   ]
  },
  {
   "cell_type": "markdown",
   "id": "04d2b951-66a4-4566-bc85-241cadb7a40f",
   "metadata": {},
   "source": [
    "### 4.1 提示文\n",
    "\n",
    "增加历史记录，作为记忆。\n",
    "\n",
    "注意：以下两个概念不完全相等。\n",
    "\n",
    "- 历史：过去发生的事实。例如，日记本。\n",
    "- 记忆：对过去事实的参照。例如，交谈时大脑中掌握的过去事件。\n",
    "  - 基于历史的，但：\n",
    "    - 不完全：记忆是概要的，会忽略细节\n",
    "    - 不精确：记忆忽略了细节，可能导致歧义\n",
    "    - 浓缩的：对比历史，信息量是减少的，体积更小\n",
    "\n",
    "此处，最简单的，直接以历史作为记忆。\n",
    "- 优点：精确，没有对历史进行压缩\n",
    "- 缺点：体积大，不适合长会话。"
   ]
  },
  {
   "cell_type": "code",
   "execution_count": 66,
   "id": "abc00ec4-c6df-4d56-919e-69c0b9509c66",
   "metadata": {},
   "outputs": [
    {
     "data": {
      "text/html": [
       "<ul style=\"list-style: none; margin: 5px 0;\"><li><div style=\"margin: 15px 5px;\"><div style=\"text-align: right; font-size: 24px;\">🤖</div><pre style=\"background-color: #eff; float: right; padding: 5px; width: fit-content; box-shadow: 0 4px 8px 0 rgba(0,0,0,0.2); transition: 0.3s;   border-radius: 5px;\">What can I help you?</pre></div></li><li><div style=\"margin: 15px 5px;\"><div style=\"text-align: left;font-size: 24px;\">👨🏻</div><pre style=\"background-color: #ffe; padding: 5px; width: fit-content; box-shadow: 0 4px 8px 0 rgba(0,0,0,0.2); transition: 0.3s; border-radius: 5px;\">Please answer my questions using given documents.</pre></div></li><li><div style=\"margin: 15px 5px;\"><div style=\"text-align: right; font-size: 24px;\">🤖</div><pre style=\"background-color: #eff; float: right; padding: 5px; width: fit-content; box-shadow: 0 4px 8px 0 rgba(0,0,0,0.2); transition: 0.3s;   border-radius: 5px;\">OK.</pre></div></li><li><div style=\"margin: 15px 5px;\"><div style=\"text-align: left;font-size: 24px;\">👨🏻</div><pre style=\"background-color: #ffe; padding: 5px; width: fit-content; box-shadow: 0 4px 8px 0 rgba(0,0,0,0.2); transition: 0.3s; border-radius: 5px;\">Document 1 ...</pre></div></li><li><div style=\"margin: 15px 5px;\"><div style=\"text-align: right; font-size: 24px;\">🤖</div><pre style=\"background-color: #eff; float: right; padding: 5px; width: fit-content; box-shadow: 0 4px 8px 0 rgba(0,0,0,0.2); transition: 0.3s;   border-radius: 5px;\">OK.</pre></div></li><li><div style=\"margin: 15px 5px;\"><div style=\"text-align: left;font-size: 24px;\">👨🏻</div><pre style=\"background-color: #ffe; padding: 5px; width: fit-content; box-shadow: 0 4px 8px 0 rgba(0,0,0,0.2); transition: 0.3s; border-radius: 5px;\">Balabala...</pre></div></li><li><div style=\"margin: 15px 5px;\"><div style=\"text-align: right; font-size: 24px;\">🤖</div><pre style=\"background-color: #eff; float: right; padding: 5px; width: fit-content; box-shadow: 0 4px 8px 0 rgba(0,0,0,0.2); transition: 0.3s;   border-radius: 5px;\">Balabala...</pre></div></li><li><div style=\"margin: 15px 5px;\"><div style=\"text-align: left;font-size: 24px;\">👨🏻</div><pre style=\"background-color: #ffe; padding: 5px; width: fit-content; box-shadow: 0 4px 8px 0 rgba(0,0,0,0.2); transition: 0.3s; border-radius: 5px;\">What is your name?</pre></div></li></ul>"
      ],
      "text/plain": [
       "<IPython.core.display.HTML object>"
      ]
     },
     "metadata": {},
     "output_type": "display_data"
    }
   ],
   "source": [
    "from langchain_core.messages import HumanMessage, AIMessage\n",
    "from langchain_core.prompts import ChatPromptTemplate, MessagesPlaceholder\n",
    "\n",
    "prompt_template = ChatPromptTemplate.from_messages([\n",
    "    (\"ai\", \"What can I help you?\"),\n",
    "    (\"human\", \"Please answer my questions using given documents.\"),\n",
    "    (\"ai\", \"OK.\"),\n",
    "    MessagesPlaceholder(\"documents\"),\n",
    "    MessagesPlaceholder(\"history\", optional=True), # 会话历史\n",
    "    (\"human\", \"{question}\") # 最新一条消息\n",
    "])\n",
    "\n",
    "prompt = prompt_template.invoke({\n",
    "    \"question\": \"What is your name?\",\n",
    "    \"history\": [\n",
    "        HumanMessage(content=\"Balabala...\"),\n",
    "        AIMessage(content=\"Balabala...\")        \n",
    "    ],\n",
    "    \"documents\": [\n",
    "        HumanMessage(content=\"Document 1 ...\"),\n",
    "        AIMessage(content=\"OK.\")        \n",
    "    ]\n",
    "})\n",
    "\n",
    "show_messages(prompt.messages)"
   ]
  },
  {
   "cell_type": "markdown",
   "id": "f7a6ab6f-25f2-486d-b3db-2cd0e4ee2d71",
   "metadata": {},
   "source": [
    "### 4.2 问题上下文改善\n",
    "\n",
    "查找相关资料时，使用的是当前一次的“问题”。这涉及上下文指代时，很可能无法获取参考资料。\n",
    "\n",
    "例如，最新的一条消息是“请继续”。此时不能使用“请继续”三个字去查找相关资料，而应该先搞明白用户到底想问什么，再去查找相关资料。即，“请继续”，要翻译成具体的“请继续回答xxx问题”之后，再依此去查找相关资料。"
   ]
  },
  {
   "cell_type": "code",
   "execution_count": 67,
   "id": "2c4d678f-32e5-494a-871d-cc124f493f80",
   "metadata": {},
   "outputs": [
    {
     "data": {
      "text/html": [
       "<ul style=\"list-style: none;\"></ul>"
      ],
      "text/plain": [
       "<IPython.core.display.HTML object>"
      ]
     },
     "metadata": {},
     "output_type": "display_data"
    }
   ],
   "source": [
    "chunks = retriever.invoke(\"英語で回答してください。\")\n",
    "\n",
    "show_documents(chunks)"
   ]
  },
  {
   "cell_type": "markdown",
   "id": "c9d21b6b-5179-4558-aa4f-b141decd3efb",
   "metadata": {},
   "source": [
    "上面的例子是没有输出的，因为根本查找不到相似的资料片段。通过如下改造后，就可以顺利查找出参考资料了。\n",
    "\n",
    "首先，对问题进行上下文的展开。"
   ]
  },
  {
   "cell_type": "code",
   "execution_count": 68,
   "id": "6289c16c-87e4-4182-a4d8-8336904c72a8",
   "metadata": {},
   "outputs": [
    {
     "data": {
      "text/html": [
       "<div style=\"background-color: #eee; padding: 5px;\"><div style=\"font-size: 9px; color: #333;\">id=run-1eaee6d1-faee-4085-a467-d1f219df9caa-0</div><pre style=\"background-color: transparent; border: 1px dash #ccc; padding: 5px; width: fit-content;\">英語で「六元素」は何ですか？</pre><pre style=\"font-size: 9px;\">{\n",
       "  \"token_usage\": {\n",
       "    \"completion_tokens\": 15,\n",
       "    \"prompt_tokens\": 105,\n",
       "    \"total_tokens\": 120\n",
       "  },\n",
       "  \"model_name\": \"gpt-4\",\n",
       "  \"system_fingerprint\": null,\n",
       "  \"finish_reason\": \"stop\",\n",
       "  \"logprobs\": null\n",
       "}</pre></div>"
      ],
      "text/plain": [
       "<IPython.core.display.HTML object>"
      ]
     },
     "metadata": {},
     "output_type": "display_data"
    }
   ],
   "source": [
    "contextualize_q_system_prompt = (\n",
    "    \"Given a chat history and the latest user question \"\n",
    "    \"which might reference context in the chat history, \"\n",
    "    \"formulate a standalone question which can be understood \"\n",
    "    \"without the chat history. Do NOT answer the question, \"\n",
    "    \"just reformulate it if needed and otherwise return it as is.\"\n",
    "    \"Please use Japanese.\"\n",
    ")\n",
    "contextualize_q_prompt = ChatPromptTemplate.from_messages(\n",
    "    [\n",
    "        (\"system\", contextualize_q_system_prompt),\n",
    "        MessagesPlaceholder(\"history\"),\n",
    "        (\"human\", \"{question}\"),\n",
    "    ]\n",
    ")\n",
    "\n",
    "from langchain_openai import ChatOpenAI\n",
    "\n",
    "llm = ChatOpenAI(\n",
    "    model=\"gpt-4\",\n",
    "    temperature=0,\n",
    "    max_tokens=None,\n",
    "    timeout=None,\n",
    "    max_retries=2,\n",
    ")\n",
    "\n",
    "contextualize_chain = contextualize_q_prompt | llm\n",
    "\n",
    "res = contextualize_chain.invoke({\n",
    "    \"question\": \"英語で回答してください。\",\n",
    "    \"history\": [\n",
    "        HumanMessage(content=\"六元素は何ですか。\"),\n",
    "        AIMessage(content=\"六元素は日本のIT企業です。\")\n",
    "    ]\n",
    "})\n",
    "\n",
    "show_answer(res)"
   ]
  },
  {
   "cell_type": "markdown",
   "id": "6e583ca6-9b87-4067-9cef-78587ecc2d54",
   "metadata": {},
   "source": [
    "如下的结果处理与RAG例子相同，直接使用即可。"
   ]
  },
  {
   "cell_type": "code",
   "execution_count": 69,
   "id": "8a8ee4d2-e81f-4bf3-8e36-58cbdcb790d1",
   "metadata": {},
   "outputs": [],
   "source": [
    "from langchain_core.runnables import RunnableLambda\n",
    "from langchain_core.documents import Document\n",
    "from langchain_core.messages import BaseMessage, HumanMessage, AIMessage\n",
    "# 将Documents一览变换成Message列表\n",
    "def convert(docs: list[Document]) -> list[BaseMessage]:\n",
    "    if len(docs) == 0:\n",
    "      return [\n",
    "          HumanMessage(content=\"Sorry. There is no documents found for my question. Please answer my questions without reference documents.\"),\n",
    "          AIMessage(content=\"OK. I will answer your questions by original training data.\")\n",
    "      ]\n",
    "    else:\n",
    "      messages: list[BaseMessage] = []\n",
    "      messages.extend([\n",
    "          HumanMessage(content=\"The documents will send to you one by one.\"),\n",
    "          AIMessage(content=\"OK. Please show them one by one.\")\n",
    "      ])\n",
    "      for i, doc in enumerate(docs):\n",
    "        meta = \"\\n\".join(f\"- {k}: {v}\" for k, v in doc.metadata.items())\n",
    "        messages.extend([\n",
    "          HumanMessage(content=f\"[Document {i+1}]\\nMetadata: \\n{meta} \\n\\nContent: \\n {doc.page_content}\"),\n",
    "          AIMessage(content=\"OK.\")\n",
    "        ])\n",
    "      messages.extend([\n",
    "          HumanMessage(content=f\"OK. All {len(docs)} documents are sent to you.\"),\n",
    "          AIMessage(content=f\"Thank you. I will answer your questions based on those {len(docs)} documents.\")\n",
    "      ])\n",
    "      return messages\n",
    "\n",
    "documents_parser = RunnableLambda(convert)\n"
   ]
  },
  {
   "cell_type": "markdown",
   "id": "4a0566e5-d902-47ef-a47b-a021dfc5cf8e",
   "metadata": {},
   "source": [
    "最后，修正处理流程，使得查找资料时，使用改写后的“问题”。"
   ]
  },
  {
   "cell_type": "code",
   "execution_count": 70,
   "id": "b40c7188-9a47-45bc-a65c-3bfda0b9511c",
   "metadata": {},
   "outputs": [
    {
     "name": "stdout",
     "output_type": "stream",
     "text": [
      "改写后的问题： 英語で「六元素」について説明していただけますか？\n"
     ]
    },
    {
     "data": {
      "text/html": [
       "<ul style=\"list-style: none; margin: 5px 0;\"><li><div style=\"margin: 15px 5px;\"><div style=\"text-align: right; font-size: 24px;\">🤖</div><pre style=\"background-color: #eff; float: right; padding: 5px; width: fit-content; box-shadow: 0 4px 8px 0 rgba(0,0,0,0.2); transition: 0.3s;   border-radius: 5px;\">What can I help you?</pre></div></li><li><div style=\"margin: 15px 5px;\"><div style=\"text-align: left;font-size: 24px;\">👨🏻</div><pre style=\"background-color: #ffe; padding: 5px; width: fit-content; box-shadow: 0 4px 8px 0 rgba(0,0,0,0.2); transition: 0.3s; border-radius: 5px;\">Please answer my questions using given documents.</pre></div></li><li><div style=\"margin: 15px 5px;\"><div style=\"text-align: right; font-size: 24px;\">🤖</div><pre style=\"background-color: #eff; float: right; padding: 5px; width: fit-content; box-shadow: 0 4px 8px 0 rgba(0,0,0,0.2); transition: 0.3s;   border-radius: 5px;\">OK.</pre></div></li><li><div style=\"margin: 15px 5px;\"><div style=\"text-align: left;font-size: 24px;\">👨🏻</div><pre style=\"background-color: #ffe; padding: 5px; width: fit-content; box-shadow: 0 4px 8px 0 rgba(0,0,0,0.2); transition: 0.3s; border-radius: 5px;\">The documents will send to you one by one.</pre></div></li><li><div style=\"margin: 15px 5px;\"><div style=\"text-align: right; font-size: 24px;\">🤖</div><pre style=\"background-color: #eff; float: right; padding: 5px; width: fit-content; box-shadow: 0 4px 8px 0 rgba(0,0,0,0.2); transition: 0.3s;   border-radius: 5px;\">OK. Please show them one by one.</pre></div></li><li><div style=\"margin: 15px 5px;\"><div style=\"text-align: left;font-size: 24px;\">👨🏻</div><pre style=\"background-color: #ffe; padding: 5px; width: fit-content; box-shadow: 0 4px 8px 0 rgba(0,0,0,0.2); transition: 0.3s; border-radius: 5px;\">[Document 1]\n",
       "Metadata: \n",
       "- H1: 六元素について\n",
       "- H2: 社名由来 ORIGIN OF COMPANY NAME\n",
       "- H3: 六元素の意味\n",
       "- score: 2.778622064276254 \n",
       "\n",
       "Content: \n",
       " あらゆる生命は活動を維持するために酸素、炭素、窒素、水素、燐、硫黄という六つの元素が必要だとされています。私たちは、企業を発展させるためにも顧客、従業員、株主、社会、パートナー、ライバルという六つの元素が大切だと考えます。さらに中国では、まだ発見されていない未来の元素のことを「第六元素」とも言います。社名にはこれら二つの意味合いから、「堅実な基礎を築き、未来の価値を追求していく」という意味を込めています。</pre></div></li><li><div style=\"margin: 15px 5px;\"><div style=\"text-align: right; font-size: 24px;\">🤖</div><pre style=\"background-color: #eff; float: right; padding: 5px; width: fit-content; box-shadow: 0 4px 8px 0 rgba(0,0,0,0.2); transition: 0.3s;   border-radius: 5px;\">OK.</pre></div></li><li><div style=\"margin: 15px 5px;\"><div style=\"text-align: left;font-size: 24px;\">👨🏻</div><pre style=\"background-color: #ffe; padding: 5px; width: fit-content; box-shadow: 0 4px 8px 0 rgba(0,0,0,0.2); transition: 0.3s; border-radius: 5px;\">[Document 2]\n",
       "Metadata: \n",
       "- H1: 六元素について\n",
       "- score: 2.1405170260446607 \n",
       "\n",
       "Content: \n",
       " 「プラットフォーム」になりたい。 私たち六元素は、「ITプロフェッショナル力」による顧客の課題解決と「社会課題」に挑む自社サービス開発で、顧客と社会に感動と幸せを創造する「チャレンジ・プラットフォームカンパニー」です。</pre></div></li><li><div style=\"margin: 15px 5px;\"><div style=\"text-align: right; font-size: 24px;\">🤖</div><pre style=\"background-color: #eff; float: right; padding: 5px; width: fit-content; box-shadow: 0 4px 8px 0 rgba(0,0,0,0.2); transition: 0.3s;   border-radius: 5px;\">OK.</pre></div></li><li><div style=\"margin: 15px 5px;\"><div style=\"text-align: left;font-size: 24px;\">👨🏻</div><pre style=\"background-color: #ffe; padding: 5px; width: fit-content; box-shadow: 0 4px 8px 0 rgba(0,0,0,0.2); transition: 0.3s; border-radius: 5px;\">[Document 3]\n",
       "Metadata: \n",
       "- H1: 六元素について\n",
       "- score: 1.6507851381858079 \n",
       "\n",
       "Content: \n",
       " 生活、仕事、教育。日々の暮らしや社会に関わるさまざまなものが、年齢や性別、時間や場所から自由になる世界が実現できる。ITの可能性は、まだまだ広がります。 そんなITの力で私たちが目指す「感動」や「幸せ」は、すべての人がやりたいことに挑戦できる未来、成長できる未来、成功を目指せる未来。だからこそ、あなたが実現したい未来を実現するための 「プラットフォーム」になりたい。</pre></div></li><li><div style=\"margin: 15px 5px;\"><div style=\"text-align: right; font-size: 24px;\">🤖</div><pre style=\"background-color: #eff; float: right; padding: 5px; width: fit-content; box-shadow: 0 4px 8px 0 rgba(0,0,0,0.2); transition: 0.3s;   border-radius: 5px;\">OK.</pre></div></li><li><div style=\"margin: 15px 5px;\"><div style=\"text-align: left;font-size: 24px;\">👨🏻</div><pre style=\"background-color: #ffe; padding: 5px; width: fit-content; box-shadow: 0 4px 8px 0 rgba(0,0,0,0.2); transition: 0.3s; border-radius: 5px;\">[Document 4]\n",
       "Metadata: \n",
       "- H1: 六元素について\n",
       "- H2: バリュー VALUE\n",
       "- score: 1.6083487772674934 \n",
       "\n",
       "Content: \n",
       " We are CHONPS（必須元素） - Challenger やってみよう - Heart 情熱と心を込めよう - One team ワンチームになろう - New technology 先端技術を取り入れよう - Professionalプロでいよう - Study 学び続けよう</pre></div></li><li><div style=\"margin: 15px 5px;\"><div style=\"text-align: right; font-size: 24px;\">🤖</div><pre style=\"background-color: #eff; float: right; padding: 5px; width: fit-content; box-shadow: 0 4px 8px 0 rgba(0,0,0,0.2); transition: 0.3s;   border-radius: 5px;\">OK.</pre></div></li><li><div style=\"margin: 15px 5px;\"><div style=\"text-align: left;font-size: 24px;\">👨🏻</div><pre style=\"background-color: #ffe; padding: 5px; width: fit-content; box-shadow: 0 4px 8px 0 rgba(0,0,0,0.2); transition: 0.3s; border-radius: 5px;\">OK. All 4 documents are sent to you.</pre></div></li><li><div style=\"margin: 15px 5px;\"><div style=\"text-align: right; font-size: 24px;\">🤖</div><pre style=\"background-color: #eff; float: right; padding: 5px; width: fit-content; box-shadow: 0 4px 8px 0 rgba(0,0,0,0.2); transition: 0.3s;   border-radius: 5px;\">Thank you. I will answer your questions based on those 4 documents.</pre></div></li><li><div style=\"margin: 15px 5px;\"><div style=\"text-align: left;font-size: 24px;\">👨🏻</div><pre style=\"background-color: #ffe; padding: 5px; width: fit-content; box-shadow: 0 4px 8px 0 rgba(0,0,0,0.2); transition: 0.3s; border-radius: 5px;\">六元素は何ですか。</pre></div></li><li><div style=\"margin: 15px 5px;\"><div style=\"text-align: right; font-size: 24px;\">🤖</div><pre style=\"background-color: #eff; float: right; padding: 5px; width: fit-content; box-shadow: 0 4px 8px 0 rgba(0,0,0,0.2); transition: 0.3s;   border-radius: 5px;\">六元素は日本のIT企業です。</pre></div></li><li><div style=\"margin: 15px 5px;\"><div style=\"text-align: left;font-size: 24px;\">👨🏻</div><pre style=\"background-color: #ffe; padding: 5px; width: fit-content; box-shadow: 0 4px 8px 0 rgba(0,0,0,0.2); transition: 0.3s; border-radius: 5px;\">英語で回答してください。</pre></div></li></ul>"
      ],
      "text/plain": [
       "<IPython.core.display.HTML object>"
      ]
     },
     "metadata": {},
     "output_type": "display_data"
    }
   ],
   "source": [
    "from langchain_core.runnables import RunnablePassthrough, RunnableLambda, RunnableParallel\n",
    "from operator import itemgetter\n",
    "from langchain_core.output_parsers import StrOutputParser\n",
    "\n",
    "def log(x):\n",
    "    print(\"改写后的问题： \" + x)\n",
    "    return x\n",
    "\n",
    "retriever_chain = RunnablePassthrough().assign(\n",
    "    documents = contextualize_chain | StrOutputParser() | RunnableLambda(log) | retriever | documents_parser\n",
    ")\n",
    "\n",
    "prompt_builder = retriever_chain | prompt_template\n",
    "prompt = prompt_builder.invoke({\n",
    "    \"question\": \"英語で回答してください。\",\n",
    "    \"history\": [\n",
    "        HumanMessage(content=\"六元素は何ですか。\"),\n",
    "        AIMessage(content=\"六元素は日本のIT企業です。\")\n",
    "    ]\n",
    "})\n",
    "\n",
    "show_messages(prompt.messages)"
   ]
  },
  {
   "cell_type": "code",
   "execution_count": 56,
   "id": "f6e0c783-91df-4d58-ae83-d9e5bb1de368",
   "metadata": {},
   "outputs": [
    {
     "name": "stdout",
     "output_type": "stream",
     "text": [
      "英語で「六元素」について説明していただけますか？\n",
      "messages=[AIMessage(content='What can I help you?'), HumanMessage(content='Please answer my questions using given documents.'), AIMessage(content='OK.'), HumanMessage(content='The documents will send to you one by one.'), AIMessage(content='OK. Please show them one by one.'), HumanMessage(content='[Document 1]\\nMetadata: \\n- H1: 六元素について\\n- H2: 社名由来 ORIGIN OF COMPANY NAME\\n- H3: 六元素の意味\\n- score: 2.778622064276254 \\n\\nContent: \\n あらゆる生命は活動を維持するために酸素、炭素、窒素、水素、燐、硫黄という六つの元素が必要だとされています。私たちは、企業を発展させるためにも顧客、従業員、株主、社会、パートナー、ライバルという六つの元素が大切だと考えます。さらに中国では、まだ発見されていない未来の元素のことを「第六元素」とも言います。社名にはこれら二つの意味合いから、「堅実な基礎を築き、未来の価値を追求していく」という意味を込めています。'), AIMessage(content='OK.'), HumanMessage(content='[Document 2]\\nMetadata: \\n- H1: 六元素について\\n- score: 2.1405170260446607 \\n\\nContent: \\n 「プラットフォーム」になりたい。 私たち六元素は、「ITプロフェッショナル力」による顧客の課題解決と「社会課題」に挑む自社サービス開発で、顧客と社会に感動と幸せを創造する「チャレンジ・プラットフォームカンパニー」です。'), AIMessage(content='OK.'), HumanMessage(content='[Document 3]\\nMetadata: \\n- H1: 六元素について\\n- score: 1.6507851381858079 \\n\\nContent: \\n 生活、仕事、教育。日々の暮らしや社会に関わるさまざまなものが、年齢や性別、時間や場所から自由になる世界が実現できる。ITの可能性は、まだまだ広がります。 そんなITの力で私たちが目指す「感動」や「幸せ」は、すべての人がやりたいことに挑戦できる未来、成長できる未来、成功を目指せる未来。だからこそ、あなたが実現したい未来を実現するための 「プラットフォーム」になりたい。'), AIMessage(content='OK.'), HumanMessage(content='[Document 4]\\nMetadata: \\n- H1: 六元素について\\n- H2: バリュー VALUE\\n- score: 1.6083487772674934 \\n\\nContent: \\n We are CHONPS（必須元素） - Challenger やってみよう - Heart 情熱と心を込めよう - One team ワンチームになろう - New technology 先端技術を取り入れよう - Professionalプロでいよう - Study 学び続けよう'), AIMessage(content='OK.'), HumanMessage(content='OK. All 4 documents are sent to you.'), AIMessage(content='Thank you. I will answer your questions based on those 4 documents.'), HumanMessage(content='六元素は何ですか。'), AIMessage(content='六元素は日本のIT企業です。'), HumanMessage(content='英語で回答してください。')]\n"
     ]
    },
    {
     "data": {
      "text/html": [
       "<div style=\"background-color: #eee; padding: 5px;\"><div style=\"font-size: 9px; color: #333;\">id=run-6c51c3ef-3d39-43fe-a451-1826ecd9047b-0</div><pre style=\"background-color: transparent; border: 1px dash #ccc; padding: 5px; width: fit-content;\">\"Rokuyoso\" is a Japanese IT company.</pre><pre style=\"font-size: 9px;\">{\n",
       "  \"token_usage\": {\n",
       "    \"completion_tokens\": 12,\n",
       "    \"prompt_tokens\": 970,\n",
       "    \"total_tokens\": 982\n",
       "  },\n",
       "  \"model_name\": \"gpt-4\",\n",
       "  \"system_fingerprint\": null,\n",
       "  \"finish_reason\": \"stop\",\n",
       "  \"logprobs\": null\n",
       "}</pre></div>"
      ],
      "text/plain": [
       "<IPython.core.display.HTML object>"
      ]
     },
     "metadata": {},
     "output_type": "display_data"
    }
   ],
   "source": [
    "from langchain_openai import ChatOpenAI\n",
    "\n",
    "llm = ChatOpenAI(\n",
    "    model=\"gpt-4\",\n",
    "    temperature=0,\n",
    "    max_tokens=None,\n",
    "    timeout=None,\n",
    "    max_retries=2,\n",
    ")\n",
    "\n",
    "def log(x):\n",
    "    print(x)\n",
    "    return x\n",
    "\n",
    "qa = prompt_builder | RunnableLambda(log) | llm\n",
    "\n",
    "ans = qa.invoke({\n",
    "    \"question\": \"英語で回答してください。\",\n",
    "    \"history\": [\n",
    "        HumanMessage(content=\"六元素は何ですか。\"),\n",
    "        AIMessage(content=\"六元素は日本のIT企業です。\")\n",
    "    ]\n",
    "})\n",
    "\n",
    "show_answer(ans)"
   ]
  },
  {
   "cell_type": "code",
   "execution_count": 71,
   "id": "80072509-7aa5-4ba1-bfda-f902c3c10953",
   "metadata": {},
   "outputs": [
    {
     "name": "stderr",
     "output_type": "stream",
     "text": [
      "Parent run d015fc2d-e3de-40d9-8417-2cc365adb8a4 not found for run ff594921-5db0-4eff-8f54-dfe612433d32. Treating as a root run.\n"
     ]
    },
    {
     "name": "stdout",
     "output_type": "stream",
     "text": [
      "六番目の元素は何ですか。\n",
      "messages=[AIMessage(content='What can I help you?'), HumanMessage(content='Please answer my questions using given documents.'), AIMessage(content='OK.'), HumanMessage(content='The documents will send to you one by one.'), AIMessage(content='OK. Please show them one by one.'), HumanMessage(content='[Document 1]\\nMetadata: \\n- H1: 六元素について\\n- score: 3.3040027538216674 \\n\\nContent: \\n 「プラットフォーム」になりたい。 私たち六元素は、「ITプロフェッショナル力」による顧客の課題解決と「社会課題」に挑む自社サービス開発で、顧客と社会に感動と幸せを創造する「チャレンジ・プラットフォームカンパニー」です。'), AIMessage(content='OK.'), HumanMessage(content='OK. All 1 documents are sent to you.'), AIMessage(content='Thank you. I will answer your questions based on those 1 documents.'), HumanMessage(content='六元素は何ですか。')]\n"
     ]
    },
    {
     "data": {
      "text/html": [
       "<div style=\"background-color: #eee; padding: 5px;\"><div style=\"font-size: 9px; color: #333;\">id=run-643d9fad-2cb4-4321-86ac-5cf5a71f55f1-0</div><pre style=\"background-color: transparent; border: 1px dash #ccc; padding: 5px; width: fit-content;\">六元素は、「ITプロフェッショナル力」による顧客の課題解決と「社会課題」に挑む自社サービス開発で、顧客と社会に感動と幸せを創造する「チャレンジ・プラットフォームカンパニー」です。</pre><pre style=\"font-size: 9px;\">{\n",
       "  \"token_usage\": {\n",
       "    \"completion_tokens\": 97,\n",
       "    \"prompt_tokens\": 268,\n",
       "    \"total_tokens\": 365\n",
       "  },\n",
       "  \"model_name\": \"gpt-4\",\n",
       "  \"system_fingerprint\": null,\n",
       "  \"finish_reason\": \"stop\",\n",
       "  \"logprobs\": null\n",
       "}</pre></div>"
      ],
      "text/plain": [
       "<IPython.core.display.HTML object>"
      ]
     },
     "metadata": {},
     "output_type": "display_data"
    },
    {
     "name": "stderr",
     "output_type": "stream",
     "text": [
      "Parent run 1089bb56-dea9-4ef7-b559-168f03012c51 not found for run 3cbb4a9c-45b3-4576-957e-71cf6e563b06. Treating as a root run.\n"
     ]
    },
    {
     "name": "stdout",
     "output_type": "stream",
     "text": [
      "Could you please answer the previous question about what the \"Six Elements\" are in English?\n",
      "messages=[AIMessage(content='What can I help you?'), HumanMessage(content='Please answer my questions using given documents.'), AIMessage(content='OK.'), HumanMessage(content='The documents will send to you one by one.'), AIMessage(content='OK. Please show them one by one.'), HumanMessage(content='[Document 1]\\nMetadata: \\n- H1: 六元素について\\n- H2: バリュー VALUE\\n- score: 1.7603679122127491 \\n\\nContent: \\n We are CHONPS（必須元素） - Challenger やってみよう - Heart 情熱と心を込めよう - One team ワンチームになろう - New technology 先端技術を取り入れよう - Professionalプロでいよう - Study 学び続けよう'), AIMessage(content='OK.'), HumanMessage(content='OK. All 1 documents are sent to you.'), AIMessage(content='Thank you. I will answer your questions based on those 1 documents.'), HumanMessage(content='六元素は何ですか。'), AIMessage(content='六元素は、「ITプロフェッショナル力」による顧客の課題解決と「社会課題」に挑む自社サービス開発で、顧客と社会に感動と幸せを創造する「チャレンジ・プラットフォームカンパニー」です。', response_metadata={'token_usage': {'completion_tokens': 97, 'prompt_tokens': 268, 'total_tokens': 365}, 'model_name': 'gpt-4', 'system_fingerprint': None, 'finish_reason': 'stop', 'logprobs': None}, id='run-643d9fad-2cb4-4321-86ac-5cf5a71f55f1-0'), HumanMessage(content='上記の質問を英語でもう一度回答してください。')]\n"
     ]
    },
    {
     "data": {
      "text/html": [
       "<div style=\"background-color: #eee; padding: 5px;\"><div style=\"font-size: 9px; color: #333;\">id=run-5db26a47-73bd-4857-b6c6-751f60370eef-0</div><pre style=\"background-color: transparent; border: 1px dash #ccc; padding: 5px; width: fit-content;\">The six elements refer to the \"IT professional force\" that solves customer problems and the development of in-house services that challenge \"social issues\", creating excitement and happiness for customers and society as a \"Challenge Platform Company\".</pre><pre style=\"font-size: 9px;\">{\n",
       "  \"token_usage\": {\n",
       "    \"completion_tokens\": 43,\n",
       "    \"prompt_tokens\": 372,\n",
       "    \"total_tokens\": 415\n",
       "  },\n",
       "  \"model_name\": \"gpt-4\",\n",
       "  \"system_fingerprint\": null,\n",
       "  \"finish_reason\": \"stop\",\n",
       "  \"logprobs\": null\n",
       "}</pre></div>"
      ],
      "text/plain": [
       "<IPython.core.display.HTML object>"
      ]
     },
     "metadata": {},
     "output_type": "display_data"
    },
    {
     "name": "stderr",
     "output_type": "stream",
     "text": [
      "Parent run 15938016-63f7-4c99-9059-24b0f9c826e2 not found for run 98c19fbd-559f-4c0f-a232-38a96d1c6b5d. Treating as a root run.\n"
     ]
    },
    {
     "name": "stdout",
     "output_type": "stream",
     "text": [
      "七元素とは何を指していますか？\n",
      "messages=[AIMessage(content='What can I help you?'), HumanMessage(content='Please answer my questions using given documents.'), AIMessage(content='OK.'), HumanMessage(content='The documents will send to you one by one.'), AIMessage(content='OK. Please show them one by one.'), HumanMessage(content='[Document 1]\\nMetadata: \\n- H1: 六元素について\\n- H2: 社名由来 ORIGIN OF COMPANY NAME\\n- H3: 六元素の意味\\n- score: 2.8665401385732974 \\n\\nContent: \\n あらゆる生命は活動を維持するために酸素、炭素、窒素、水素、燐、硫黄という六つの元素が必要だとされています。私たちは、企業を発展させるためにも顧客、従業員、株主、社会、パートナー、ライバルという六つの元素が大切だと考えます。さらに中国では、まだ発見されていない未来の元素のことを「第六元素」とも言います。社名にはこれら二つの意味合いから、「堅実な基礎を築き、未来の価値を追求していく」という意味を込めています。'), AIMessage(content='OK.'), HumanMessage(content='[Document 2]\\nMetadata: \\n- H1: 六元素について\\n- H2: バリュー VALUE\\n- score: 1.6083487772674934 \\n\\nContent: \\n We are CHONPS（必須元素） - Challenger やってみよう - Heart 情熱と心を込めよう - One team ワンチームになろう - New technology 先端技術を取り入れよう - Professionalプロでいよう - Study 学び続けよう'), AIMessage(content='OK.'), HumanMessage(content='OK. All 2 documents are sent to you.'), AIMessage(content='Thank you. I will answer your questions based on those 2 documents.'), HumanMessage(content='六元素は何ですか。'), AIMessage(content='六元素は、「ITプロフェッショナル力」による顧客の課題解決と「社会課題」に挑む自社サービス開発で、顧客と社会に感動と幸せを創造する「チャレンジ・プラットフォームカンパニー」です。', response_metadata={'token_usage': {'completion_tokens': 97, 'prompt_tokens': 268, 'total_tokens': 365}, 'model_name': 'gpt-4', 'system_fingerprint': None, 'finish_reason': 'stop', 'logprobs': None}, id='run-643d9fad-2cb4-4321-86ac-5cf5a71f55f1-0'), HumanMessage(content='上記の質問を英語でもう一度回答してください。'), AIMessage(content='The six elements refer to the \"IT professional force\" that solves customer problems and the development of in-house services that challenge \"social issues\", creating excitement and happiness for customers and society as a \"Challenge Platform Company\".', response_metadata={'token_usage': {'completion_tokens': 43, 'prompt_tokens': 372, 'total_tokens': 415}, 'model_name': 'gpt-4', 'system_fingerprint': None, 'finish_reason': 'stop', 'logprobs': None}, id='run-5db26a47-73bd-4857-b6c6-751f60370eef-0'), HumanMessage(content='七元素は何ですか。')]\n"
     ]
    },
    {
     "data": {
      "text/html": [
       "<div style=\"background-color: #eee; padding: 5px;\"><div style=\"font-size: 9px; color: #333;\">id=run-3f438df3-9302-4c18-b3a5-09752d47b1f8-0</div><pre style=\"background-color: transparent; border: 1px dash #ccc; padding: 5px; width: fit-content;\">The documents you provided do not mention anything about \"七元素\" or \"seven elements\". Could you provide more information or context?</pre><pre style=\"font-size: 9px;\">{\n",
       "  \"token_usage\": {\n",
       "    \"completion_tokens\": 28,\n",
       "    \"prompt_tokens\": 721,\n",
       "    \"total_tokens\": 749\n",
       "  },\n",
       "  \"model_name\": \"gpt-4\",\n",
       "  \"system_fingerprint\": null,\n",
       "  \"finish_reason\": \"stop\",\n",
       "  \"logprobs\": null\n",
       "}</pre></div>"
      ],
      "text/plain": [
       "<IPython.core.display.HTML object>"
      ]
     },
     "metadata": {},
     "output_type": "display_data"
    }
   ],
   "source": [
    "from langchain_core.chat_history import InMemoryChatMessageHistory\n",
    "from langchain_core.prompts import ChatPromptTemplate, MessagesPlaceholder\n",
    "from langchain_core.runnables.history import RunnableWithMessageHistory\n",
    "from langchain_core.runnables.base import Runnable\n",
    "\n",
    "# 会话存储位置\n",
    "global_store = {}\n",
    "\n",
    "# 根据会话ID，创建或返回既有的历史记录管理部品\n",
    "def get_session_history(session_id):\n",
    "   if session_id not in global_store:\n",
    "       # 历史记录管理使用InMemoryChatMessageHistory\n",
    "       global_store[session_id] = InMemoryChatMessageHistory()\n",
    "   return global_store[session_id]\n",
    "\n",
    "# add a memory to a chain with prompt and chat\n",
    "qa_with_memory: Runnable  = RunnableWithMessageHistory(\n",
    "    qa,\n",
    "    get_session_history,\n",
    "    input_messages_key='question',\n",
    "    history_messages_key='history'\n",
    ")\n",
    "\n",
    "res = qa_with_memory.invoke(\n",
    "    { \"question\": \"六元素は何ですか。\" },\n",
    "    config={'configurable': {'session_id': 'abc123'}}\n",
    ")\n",
    "show_answer(res)\n",
    "\n",
    "res = qa_with_memory.invoke(\n",
    "    { \"question\": \"上記の質問を英語でもう一度回答してください。\" },\n",
    "    config={'configurable': {'session_id': 'abc123'}}\n",
    ")\n",
    "show_answer(res)\n",
    "\n",
    "res = qa_with_memory.invoke(\n",
    "    { \"question\": \"七元素は何ですか。\" },\n",
    "    config={'configurable': {'session_id': 'abc123'}}\n",
    ")\n",
    "show_answer(res)"
   ]
  },
  {
   "cell_type": "markdown",
   "id": "337fe391-d43e-4e88-9ecd-9ef93db3c807",
   "metadata": {},
   "source": [
    "## 2.简单界面"
   ]
  },
  {
   "cell_type": "code",
   "execution_count": 63,
   "id": "4ef5788f-6237-4438-9e22-61b86df4fe19",
   "metadata": {},
   "outputs": [
    {
     "data": {
      "application/vnd.jupyter.widget-view+json": {
       "model_id": "ba323a619b8f4e71b22339bf26cecc19",
       "version_major": 2,
       "version_minor": 0
      },
      "text/plain": [
       "Output(layout=Layout(height='300px', margin='5px', padding='10px'))"
      ]
     },
     "metadata": {},
     "output_type": "display_data"
    },
    {
     "data": {
      "application/vnd.jupyter.widget-view+json": {
       "model_id": "646349b7cd634a8fa4619e498fafcaf3",
       "version_major": 2,
       "version_minor": 0
      },
      "text/plain": [
       "Textarea(value='', description='User:', layout=Layout(width='auto'), placeholder='Enter text here...', rows=2)"
      ]
     },
     "metadata": {},
     "output_type": "display_data"
    },
    {
     "data": {
      "application/vnd.jupyter.widget-view+json": {
       "model_id": "1e40b165bfa242aca3b3dd38a4331bae",
       "version_major": 2,
       "version_minor": 0
      },
      "text/plain": [
       "Button(description='送信', style=ButtonStyle())"
      ]
     },
     "metadata": {},
     "output_type": "display_data"
    }
   ],
   "source": [
    "import ipywidgets as widgets\n",
    "from IPython.display import display, clear_output\n",
    "from langchain_core.messages import BaseMessage, HumanMessage, AIMessage\n",
    "\n",
    "output = widgets.Output(layout={\"height\": \"300px\", \"padding\": \"10px\", \"margin\": \"5px\", \"border-width\": \"5px\"})\n",
    "\n",
    "user_input = widgets.Textarea(value='',\n",
    "                              placeholder='Enter text here...',\n",
    "                              description='User:',\n",
    "                              rows=2,\n",
    "                              layout=widgets.Layout(width='auto'))\n",
    "\n",
    "# Create button for user to click to send their message\n",
    "send_button = widgets.Button(description='送信')\n",
    "\n",
    "conversation_history = []\n",
    "\n",
    "def send_button_clicked(b):\n",
    "    # Append user input to conversation history\n",
    "    conversation_history.append(HumanMessage(content = user_input.value))    \n",
    "    response = qa_with_memory.invoke(\n",
    "        { \"question\": user_input.value },\n",
    "        config={'configurable': {'session_id': 'abc123456'}}\n",
    "    )\n",
    "    conversation_history.append(response)\n",
    "\n",
    "    with output:\n",
    "        clear_output(wait = False)\n",
    "        show_messages(conversation_history)\n",
    "    \n",
    "    # Clear user input box\n",
    "    user_input.value = ''\n",
    "\n",
    "send_button.on_click(send_button_clicked)\n",
    "\n",
    "# Display everything\n",
    "display(output, user_input, send_button)"
   ]
  },
  {
   "cell_type": "code",
   "execution_count": null,
   "id": "bbc60327-d82c-4a4e-a985-3f72bf443dbb",
   "metadata": {},
   "outputs": [],
   "source": []
  }
 ],
 "metadata": {
  "kernelspec": {
   "display_name": "Python 3 (ipykernel)",
   "language": "python",
   "name": "python3"
  },
  "language_info": {
   "codemirror_mode": {
    "name": "ipython",
    "version": 3
   },
   "file_extension": ".py",
   "mimetype": "text/x-python",
   "name": "python",
   "nbconvert_exporter": "python",
   "pygments_lexer": "ipython3",
   "version": "3.11.6"
  }
 },
 "nbformat": 4,
 "nbformat_minor": 5
}
