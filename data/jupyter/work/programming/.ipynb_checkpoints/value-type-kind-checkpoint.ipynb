{
 "cells": [
  {
   "cell_type": "markdown",
   "id": "c2cee6b3-d4fb-4077-b5db-f15ee517524b",
   "metadata": {},
   "source": [
    "# 1.值(Value)-类型(Type)-种类(Kind)\n"
   ]
  },
  {
   "cell_type": "markdown",
   "id": "547e8273-f8ba-4857-8f92-ab2b96904053",
   "metadata": {},
   "source": [
    "## 1.1 值\n",
    "\n",
    "计算机程序的本质是值（即数据）的处理。\n",
    "\n",
    "※ 不能处理**值**的程序是没意义的。或者说，它存在或不存在，没有区别。\n",
    "\n",
    "常见的简单的值，如：\n",
    "\n",
    "```\n",
    "1,2,3,4,...\n",
    "a,b,c,...\n",
    "\"hello\", \"你好\"\n",
    "```\n",
    "\n",
    "当然，更多是复杂的**值**，例如：\"用户点击按钮事件\"，\"摄像头接收的画面\"…… 值的表示是复杂的，但概念上讲，它们是同一个东西，就是\"值\"。"
   ]
  },
  {
   "cell_type": "code",
   "execution_count": null,
   "id": "af4ebd02-8eb7-42ab-8eca-6d4b2e9e46b3",
   "metadata": {},
   "outputs": [],
   "source": []
  },
  {
   "cell_type": "markdown",
   "id": "caf40e08-5c4e-4659-8d12-d9cf0faeda68",
   "metadata": {},
   "source": [
    "构造复杂的值，有很多方法。本质上是值的组合。因此，值的组合也是值。"
   ]
  },
  {
   "cell_type": "code",
   "execution_count": null,
   "id": "2243ab40-71d6-40c8-b150-13c16b737900",
   "metadata": {},
   "outputs": [],
   "source": []
  },
  {
   "cell_type": "markdown",
   "id": "834de4c3-4d6a-4d97-baf0-181a88928e8e",
   "metadata": {},
   "source": [
    "特别的，“值->值”的变化，这也是一个概念。它也可以视为一个“值”。\n",
    "\n",
    "很多编程语言中，把这种变化定义成“函数”的概念。"
   ]
  },
  {
   "cell_type": "code",
   "execution_count": null,
   "id": "f1239deb-5951-4a82-bdb7-1fc3fcbec9e2",
   "metadata": {},
   "outputs": [],
   "source": []
  },
  {
   "cell_type": "markdown",
   "id": "af539979-417c-4c5c-b241-53194dbd683a",
   "metadata": {},
   "source": [
    "更特别的，有一类变化，定义了如何构造一个值。很多语言中称为“构造函数”。"
   ]
  },
  {
   "cell_type": "code",
   "execution_count": null,
   "id": "d114a940-a432-49d2-ae06-133cc83b4dd1",
   "metadata": {},
   "outputs": [],
   "source": []
  },
  {
   "cell_type": "markdown",
   "id": "d606d15c-4b4e-4296-a294-b10aed734ce2",
   "metadata": {},
   "source": [
    "总结，值是代表了具体某一个数据。\n",
    "\n",
    "- 原始的简单值\n",
    "- 复杂的值  -- 值的组合\n",
    "- 值的变化  -- 函数\n",
    "- 如何构造一个值  -- 构造函数"
   ]
  },
  {
   "cell_type": "markdown",
   "id": "4c80b337-5366-464d-9f3a-dbd4e087d3dd",
   "metadata": {},
   "source": [
    "## 1.2 类型\n",
    "\n",
    "值的抽象是类型。就比如，`1,2,3,...`，抽象后，得出了“整数”的概念。\n",
    "\n",
    "对应的，各种值，都可以进行抽象。\n",
    "\n",
    "|             值     |      类型        |\n",
    "|---------------------|-------------------|\n",
    "|原始的简单值 | 简单类型 |\r",
    "|\n",
    "复杂的  值的组 | 复合类型-类型的组合 |合|\r\n",
    "值的化-  | 类型的变化 |函|数\r\n",
    "如何构造值-- 构 | 如何构造一个类型 |造函数"
   ]
  },
  {
   "cell_type": "code",
   "execution_count": null,
   "id": "af13a728-a5e9-4b71-abb0-ae759820fb64",
   "metadata": {},
   "outputs": [],
   "source": []
  }
 ],
 "metadata": {
  "kernelspec": {
   "display_name": "Scala 3.3",
   "language": "scala",
   "name": "scala33"
  },
  "language_info": {
   "codemirror_mode": "text/x-scala",
   "file_extension": ".sc",
   "mimetype": "text/x-scala",
   "name": "scala",
   "nbconvert_exporter": "script",
   "version": "2.13.14"
  }
 },
 "nbformat": 4,
 "nbformat_minor": 5
}
