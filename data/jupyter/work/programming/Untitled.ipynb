{
 "cells": [
  {
   "cell_type": "markdown",
   "id": "91c1815d-d19b-4041-a79a-6c3d51de1490",
   "metadata": {},
   "source": [
    "# 1. 析取类型"
   ]
  },
  {
   "cell_type": "code",
   "execution_count": null,
   "id": "d104ede4-1c29-497f-ad0e-61527a07dbd9",
   "metadata": {},
   "outputs": [],
   "source": []
  }
 ],
 "metadata": {
  "kernelspec": {
   "display_name": "Scala 3.3",
   "language": "scala",
   "name": "scala33"
  },
  "language_info": {
   "codemirror_mode": "text/x-scala",
   "file_extension": ".sc",
   "mimetype": "text/x-scala",
   "name": "scala",
   "nbconvert_exporter": "script",
   "version": "2.13.14"
  }
 },
 "nbformat": 4,
 "nbformat_minor": 5
}
